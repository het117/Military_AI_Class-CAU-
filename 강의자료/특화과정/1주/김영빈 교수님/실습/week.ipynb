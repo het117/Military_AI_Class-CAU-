{
  "cells": [
    {
      "cell_type": "code",
      "execution_count": 1,
      "metadata": {
        "id": "WhXtubawMKTf"
      },
      "outputs": [
        {
          "name": "stderr",
          "output_type": "stream",
          "text": [
            "c:\\Users\\cau\\miniconda3\\envs\\het\\lib\\site-packages\\tqdm\\auto.py:22: TqdmWarning: IProgress not found. Please update jupyter and ipywidgets. See https://ipywidgets.readthedocs.io/en/stable/user_install.html\n",
            "  from .autonotebook import tqdm as notebook_tqdm\n"
          ]
        }
      ],
      "source": [
        "import random\n",
        "import numpy as np\n",
        "import matplotlib.pyplot as plt\n",
        "\n",
        "import torch\n",
        "import torchvision\n",
        "import torchvision.transforms as transforms\n",
        "from keras.datasets import cifar10"
      ]
    },
    {
      "cell_type": "code",
      "execution_count": 2,
      "metadata": {
        "colab": {
          "base_uri": "https://localhost:8080/"
        },
        "id": "aUaVaB48MLcd",
        "outputId": "1d8c6e0e-031f-40f6-a491-26ca36f8e173"
      },
      "outputs": [
        {
          "name": "stdout",
          "output_type": "stream",
          "text": [
            "Train data shape:  (49000, 32, 32, 3)\n",
            "Train labels shape:  (49000, 1)\n",
            "Validation data shape:  (1000, 32, 32, 3)\n",
            "Validation labels shape:  (1000, 1)\n",
            "Test data shape:  (1000, 32, 32, 3)\n",
            "Test labels shape:  (1000, 1)\n"
          ]
        }
      ],
      "source": [
        "(X_train, y_train) , (X_test, y_test) = cifar10.load_data()\n",
        "num_training = 49000\n",
        "num_validation = 1000\n",
        "num_test = 1000\n",
        "num_dev = 500\n",
        "\n",
        "# valdiation set\n",
        "mask = range(num_training, num_training + num_validation)\n",
        "X_val = X_train[mask]\n",
        "y_val = y_train[mask]\n",
        "\n",
        "# training set\n",
        "mask = range(num_training)\n",
        "X_train = X_train[mask]\n",
        "y_train = y_train[mask]\n",
        "\n",
        "# development set\n",
        "mask = np.random.choice(num_training, num_dev, replace=False)\n",
        "X_dev = X_train[mask]\n",
        "y_dev = y_train[mask]\n",
        "\n",
        "# test set\n",
        "mask = range(num_test)\n",
        "X_test = X_test[mask]\n",
        "y_test = y_test[mask]\n",
        "\n",
        "\n",
        "print ('Train data shape: ', X_train.shape)\n",
        "print ('Train labels shape: ', y_train.shape)\n",
        "print ('Validation data shape: ', X_val.shape)\n",
        "print ('Validation labels shape: ', y_val.shape)\n",
        "print ('Test data shape: ', X_test.shape)\n",
        "print ('Test labels shape: ', y_test.shape)"
      ]
    },
    {
      "cell_type": "code",
      "execution_count": 3,
      "metadata": {
        "colab": {
          "base_uri": "https://localhost:8080/"
        },
        "id": "Sw4vjkpPMLiH",
        "outputId": "cc1be654-e927-4f43-d295-560a8399734c"
      },
      "outputs": [
        {
          "name": "stdout",
          "output_type": "stream",
          "text": [
            "Training data shape:  (49000, 3072)\n",
            "Validation data shape:  (1000, 3072)\n",
            "Test data shape:  (1000, 3072)\n",
            "dev data shape:  (500, 3072)\n"
          ]
        }
      ],
      "source": [
        "# Preprocessing: reshape the image data into rows\n",
        "X_train = np.reshape(X_train, (X_train.shape[0], -1))\n",
        "X_val = np.reshape(X_val, (X_val.shape[0], -1))\n",
        "X_test = np.reshape(X_test, (X_test.shape[0], -1))\n",
        "X_dev = np.reshape(X_dev, (X_dev.shape[0], -1))\n",
        "\n",
        "# As a sanity check, print out the shapes of the data\n",
        "print ('Training data shape: ', X_train.shape)\n",
        "print ('Validation data shape: ', X_val.shape)\n",
        "print ('Test data shape: ', X_test.shape)\n",
        "print ('dev data shape: ', X_dev.shape)"
      ]
    },
    {
      "cell_type": "code",
      "execution_count": 4,
      "metadata": {
        "colab": {
          "base_uri": "https://localhost:8080/"
        },
        "id": "wImyALXiM7X_",
        "outputId": "29fc5dfb-c2c7-4c05-95f0-4cc08fb660eb"
      },
      "outputs": [
        {
          "name": "stdout",
          "output_type": "stream",
          "text": [
            "(49000, 3073) (1000, 3073) (1000, 3073) (500, 3073)\n"
          ]
        }
      ],
      "source": [
        "mean_image = np.mean(X_train, axis=0).astype('uint8')\n",
        "\n",
        "X_train -= mean_image\n",
        "X_val -= mean_image\n",
        "X_test -= mean_image\n",
        "X_dev -= mean_image\n",
        "\n",
        "X_train = np.hstack([X_train, np.ones((X_train.shape[0], 1))])\n",
        "X_val = np.hstack([X_val, np.ones((X_val.shape[0], 1))])\n",
        "X_test = np.hstack([X_test, np.ones((X_test.shape[0], 1))])\n",
        "X_dev = np.hstack([X_dev, np.ones((X_dev.shape[0], 1))])\n",
        "\n",
        "print(X_train.shape, X_val.shape, X_test.shape, X_dev.shape)"
      ]
    },
    {
      "cell_type": "code",
      "execution_count": 5,
      "metadata": {
        "id": "pYeBczOjLiyY"
      },
      "outputs": [],
      "source": [
        "class LinearClassifier(object):\n",
        "\n",
        "  def __init__(self):\n",
        "    self.W = None\n",
        "\n",
        "  def train(self, X, y, learning_rate=1e-3, reg=1e-5, num_iters=100,\n",
        "            batch_size=200, verbose=False):\n",
        "      \n",
        "    num_train, dim = X.shape\n",
        "    num_classes = np.max(y) + 1 # y는 0...K-1 를 갖는다고 가정 (K는 classes 개수)\n",
        "    if self.W is None:\n",
        "      # 초기화\n",
        "      self.W = 0.001 * np.random.randn(dim, num_classes)\n",
        "\n",
        "    # gradient descent W\n",
        "    loss_history = []\n",
        "    for it in range(num_iters):\n",
        "      X_batch = None\n",
        "      y_batch = None\n",
        "      \n",
        "      # batch size로 샘플링\n",
        "      random_idxs = np.random.choice(num_train, batch_size)\n",
        "      X_batch = X[random_idxs]\n",
        "      y_batch = y[random_idxs]\n",
        "\n",
        "      # loss 와 gradient 계산하기\n",
        "      loss, grad = self.loss(X_batch, y_batch, reg)\n",
        "      loss_history.append(loss)\n",
        "\n",
        "      self.W -= learning_rate * grad  \n",
        "\n",
        "      if verbose and it % 100 == 0:\n",
        "        print('iteration %d / %d: loss %f' % (it, num_iters, loss))\n",
        "\n",
        "    return loss_history\n",
        "\n",
        "  def predict(self, X):\n",
        "\n",
        "    y_pred = np.zeros(X.shape[1])\n",
        "\n",
        "    # prediction(y_pred)에서 가장 높은 값 추출\n",
        "    y_pred = np.argmax(np.dot(X, self.W), axis=1)\n",
        "    \n",
        "    return y_pred\n",
        "  \n",
        "  def loss(self, W, X_batch, y_batch, reg):\n",
        "\n",
        "    pass\n",
        "\n",
        "\n",
        "def svm_loss_vectorized(W, X, y, reg):\n",
        "\n",
        "\n",
        "  C = W.shape[1]\n",
        "  N = X.shape[0]\n",
        "  loss = 0.0\n",
        "  dW = np.zeros(W.shape) # initialize the gradient as zero\n",
        "\n",
        "  scores = np.dot(X, W)    # (N, C)\n",
        "  \n",
        "  correct_scores = scores[np.arange(N), y]  # (N, )\n",
        "  margins = np.maximum(scores - correct_scores.reshape(N, 1) + 1.0, 0)  # (N, C)\n",
        "  margins[np.arange(N), y] = 0\n",
        "  loss = np.sum(margins) / N\n",
        "  loss += 0.5 * reg * np.sum(W * W)\n",
        "\n",
        "  \n",
        "  dscores = np.zeros_like(scores)  # (N, C)\n",
        "  dscores[margins > 0] = 1  \n",
        "  dscores[np.arange(N), y] -= np.sum(dscores, axis=1)   #  (N, 1) = (N, 1)\n",
        "\n",
        "  dW = np.dot(X.T, dscores) \n",
        "  dW /= N\n",
        "  dW += reg * W \n",
        "\n",
        "  return loss, dW\n",
        "\n",
        "def softmax_loss_vectorized(W, X, y, reg):\n",
        "\n",
        "  # Initialize the loss and gradient to zero.\n",
        "  N = X.shape[0]\n",
        "  loss = 0.0\n",
        "  dW = np.zeros_like(W)\n",
        "\n",
        "  \n",
        "  # forward\n",
        "  score = np.dot(X, W)   # (N, C)\n",
        "  out = np.exp(score)\n",
        "  out /= np.sum(out, axis=1, keepdims=True)   # (N, C)\n",
        "  loss -= np.sum(np.log(out[np.arange(N), y]))\n",
        "  loss /= N\n",
        "  loss += 0.5 * reg * np.sum(W**2)\n",
        "\n",
        "  # backward\n",
        "  dout = np.copy(out)   # (N, C)\n",
        "  dout[np.arange(N), y] -= 1\n",
        "  dW = np.dot(X.T, dout)  # (D, C)\n",
        "  dW /= N\n",
        "  dW += reg * W\n",
        "\n",
        "  return loss, dW\n"
      ]
    },
    {
      "cell_type": "code",
      "execution_count": 6,
      "metadata": {
        "id": "roqbt5JqL_7T"
      },
      "outputs": [],
      "source": [
        "class LinearSVM(LinearClassifier):\n",
        "  \"\"\" A subclass that uses the Multiclass SVM loss function \"\"\"\n",
        "\n",
        "  def loss(self, X_batch, y_batch, reg):\n",
        "      return svm_loss_vectorized(self.W, X_batch, y_batch, reg)\n",
        "\n",
        "\n",
        "class Softmax(LinearClassifier):\n",
        "  \"\"\" A subclass that uses the Softmax + Cross-entropy loss function \"\"\"\n",
        "\n",
        "  def loss(self, X_batch, y_batch, reg):\n",
        "    return softmax_loss_vectorized(self.W, X_batch, y_batch, reg)\n"
      ]
    },
    {
      "cell_type": "code",
      "execution_count": 7,
      "metadata": {
        "colab": {
          "base_uri": "https://localhost:8080/"
        },
        "id": "6b34Q9JcMJey",
        "outputId": "e8d0c80b-f402-4916-e72b-ad1af5ab7baf"
      },
      "outputs": [
        {
          "name": "stdout",
          "output_type": "stream",
          "text": [
            "iteration 0 / 1500: loss 812.548349\n",
            "iteration 100 / 1500: loss 293.565043\n",
            "iteration 200 / 1500: loss 114.261617\n",
            "iteration 300 / 1500: loss 49.198544\n",
            "iteration 400 / 1500: loss 26.708532\n",
            "iteration 500 / 1500: loss 14.135865\n",
            "iteration 600 / 1500: loss 14.917248\n",
            "iteration 700 / 1500: loss 11.112203\n",
            "iteration 800 / 1500: loss 10.172685\n",
            "iteration 900 / 1500: loss 10.746136\n",
            "iteration 1000 / 1500: loss 10.329157\n",
            "iteration 1100 / 1500: loss 13.725946\n",
            "iteration 1200 / 1500: loss 12.225270\n",
            "iteration 1300 / 1500: loss 10.046539\n",
            "iteration 1400 / 1500: loss 11.407408\n",
            "That took 3.281669s\n"
          ]
        }
      ],
      "source": [
        "import time\n",
        "\n",
        "svm = LinearSVM()\n",
        "tic = time.time()\n",
        "loss_hist = svm.train(X_train, y_train.flatten(), learning_rate=1e-7, reg=5e4, num_iters=1500, verbose=True)\n",
        "toc = time.time()\n",
        "print ('That took %fs' % (toc - tic))"
      ]
    },
    {
      "cell_type": "code",
      "execution_count": 8,
      "metadata": {
        "colab": {
          "base_uri": "https://localhost:8080/",
          "height": 279
        },
        "id": "q4JgejKWPc3k",
        "outputId": "5af678cc-9f43-4b25-9286-67bd17982266"
      },
      "outputs": [
        {
          "data": {
            "image/png": "[encoded data removed]",
            "text/plain": [
              "<Figure size 300x300 with 1 Axes>"
            ]
          },
          "metadata": {},
          "output_type": "display_data"
        }
      ],
      "source": [
        "plt.figure(figsize=(3, 3))\n",
        "plt.plot(loss_hist)\n",
        "plt.xlabel('Iteration number')\n",
        "plt.ylabel('Loss value')\n",
        "plt.show()"
      ]
    },
    {
      "cell_type": "code",
      "execution_count": 9,
      "metadata": {
        "colab": {
          "base_uri": "https://localhost:8080/"
        },
        "id": "-SExo2emPfZT",
        "outputId": "0caabb1a-21a8-4016-d564-02d67c7e2b47"
      },
      "outputs": [
        {
          "name": "stdout",
          "output_type": "stream",
          "text": [
            "training accuracy: 0.100057\n",
            "validation accuracy: 0.097324\n"
          ]
        }
      ],
      "source": [
        "y_train_pred = svm.predict(X_train)\n",
        "print('training accuracy: %f' % (np.mean(y_train == y_train_pred), ))\n",
        "y_val_pred = svm.predict(X_val)\n",
        "print('validation accuracy: %f' % (np.mean(y_val == y_val_pred), ))"
      ]
    }
  ],
  "metadata": {
    "colab": {
      "authorship_tag": "ABX9TyPekBGQGbxN86rWwFdrhURB",
      "include_colab_link": true,
      "provenance": []
    },
    "kernelspec": {
      "display_name": "het",
      "language": "python",
      "name": "python3"
    },
    "language_info": {
      "codemirror_mode": {
        "name": "ipython",
        "version": 3
      },
      "file_extension": ".py",
      "mimetype": "text/x-python",
      "name": "python",
      "nbconvert_exporter": "python",
      "pygments_lexer": "ipython3",
      "version": "3.7.15"
    },
    "vscode": {
      "interpreter": {
        "hash": "a54e74bf99199c62ede2494f3563958cb8e322912a43717fc858ebaf84d1e028"
      }
    }
  },
  "nbformat": 4,
  "nbformat_minor": 0
}
