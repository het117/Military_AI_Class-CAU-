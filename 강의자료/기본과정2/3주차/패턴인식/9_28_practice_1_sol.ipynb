{
  "cells": [
    {
      "cell_type": "code",
      "execution_count": null,
      "metadata": {
        "id": "d7Cl6pBmVRtb"
      },
      "outputs": [],
      "source": [
        "########################################################################\n",
        "## Pattern Recognition - Practice 3 (Problem 1)\n",
        "## Chung-Ang University\n",
        "## Lecturer: Jongwon Choi (The graduate school of advanced imaging science, multimedia & film)\n",
        "##           email: choijw@cau.ac.kr\n",
        "########################################################################\n",
        "\n",
        "# DO NOT USE ANY ADDITIONAL LIBRARY\n",
        "import matplotlib as mpl\n",
        "import matplotlib.pyplot as plt\n",
        "import numpy as np"
      ]
    },
    {
      "cell_type": "markdown",
      "metadata": {
        "id": "vOz0BTt8gW_J"
      },
      "source": [
        "## Data Setting"
      ]
    },
    {
      "cell_type": "code",
      "execution_count": null,
      "metadata": {
        "colab": {
          "base_uri": "https://localhost:8080/",
          "height": 193
        },
        "id": "dAeF7FQFghN9",
        "outputId": "1993455b-d7de-46f8-bffc-9417b1b2db84"
      },
      "outputs": [
        {
          "name": "stdout",
          "output_type": "stream",
          "text": [
            "(200, 20)\n",
            "(200,)\n"
          ]
        },
        {
          "data": {
            "image/png": "[encoded data removed]",
            "text/plain": [
              "<Figure size 720x144 with 1 Axes>"
            ]
          },
          "metadata": {
            "needs_background": "light"
          },
          "output_type": "display_data"
        }
      ],
      "source": [
        "#####################\n",
        "## REGRESSION DATA ##\n",
        "#####################\n",
        "SIZE_TRAINING_DATA = 200\n",
        "NOISE_RATIO = 0.5\n",
        "MIN_RANGE = 0.0\n",
        "MAX_RANGE = 10.0\n",
        "FEATURE_DIM = 20\n",
        "\n",
        "np.random.seed(0)\n",
        "feature_training = np.random.uniform(MIN_RANGE, MAX_RANGE, [SIZE_TRAINING_DATA, FEATURE_DIM])\n",
        "label_training = np.mean(np.random.rand(1, FEATURE_DIM)*feature_training, 1) + np.random.randn(SIZE_TRAINING_DATA)*NOISE_RATIO\n",
        "\n",
        "# Plot the samples\n",
        "f, ax = plt.subplots(1, figsize=(10, 2))\n",
        "ax.scatter(feature_training[:, 0], label_training)\n",
        "f.show()\n",
        "\n",
        "print(feature_training.shape)\n",
        "print(label_training.shape)\n",
        "# print(label_training)"
      ]
    },
    {
      "cell_type": "code",
      "execution_count": null,
      "metadata": {
        "colab": {
          "base_uri": "https://localhost:8080/",
          "height": 159
        },
        "id": "WsBMTjGeXxwE",
        "outputId": "2073e430-d431-4694-85ed-7d264d8e8db9"
      },
      "outputs": [
        {
          "data": {
            "image/png": "[encoded data removed]",
            "text/plain": [
              "<Figure size 720x144 with 1 Axes>"
            ]
          },
          "metadata": {
            "needs_background": "light"
          },
          "output_type": "display_data"
        }
      ],
      "source": [
        "###############\n",
        "## TEST DATA ##\n",
        "###############\n",
        "SIZE_TEST_DATA = 20\n",
        "\n",
        "np.random.seed(1)\n",
        "feature_test = np.random.uniform(MIN_RANGE, MAX_RANGE, [SIZE_TEST_DATA, FEATURE_DIM])\n",
        "\n",
        "# Plot the samples\n",
        "f, ax = plt.subplots(1, figsize=(10, 2))\n",
        "ax.scatter(feature_test[:, 0], feature_test[:, 1])\n",
        "f.show()"
      ]
    },
    {
      "cell_type": "markdown",
      "metadata": {
        "id": "wLZZEVt3gbq2"
      },
      "source": [
        "## Problem 2 - A : Estimate this by Ridge regression (Normal Equation)"
      ]
    },
    {
      "cell_type": "code",
      "execution_count": null,
      "metadata": {
        "colab": {
          "base_uri": "https://localhost:8080/"
        },
        "id": "bUfCUYGY3yxp",
        "outputId": "dc44dc9a-5aac-438f-d4bd-9fedda9f75b5"
      },
      "outputs": [
        {
          "name": "stdout",
          "output_type": "stream",
          "text": [
            "(200, 20)\n",
            "(200, 1)\n"
          ]
        }
      ],
      "source": [
        "# data should be in form of vector (column)\n",
        "label_test = np.zeros(SIZE_TEST_DATA)\n",
        "X = np.matrix(feature_training)\n",
        "y = np.matrix(label_training).T\n",
        "print(X.shape)\n",
        "print(y.shape)"
      ]
    },
    {
      "cell_type": "code",
      "execution_count": null,
      "metadata": {
        "id": "va_CbRcN4al8"
      },
      "outputs": [],
      "source": [
        "# normal equation\n",
        "def gradient(X, y, l):\n",
        "  w = np.linalg.inv(X.transpose() * X + l * np.eye(FEATURE_DIM)) * X.transpose() * y\n",
        "  return w"
      ]
    },
    {
      "cell_type": "code",
      "execution_count": null,
      "metadata": {
        "id": "epnam_wzTQQr"
      },
      "outputs": [],
      "source": [
        "w = gradient(X, y, 3)\n",
        "X_test = feature_test\n",
        "label_test = np.matmul(X_test, w).tolist()"
      ]
    },
    {
      "cell_type": "code",
      "execution_count": null,
      "metadata": {
        "colab": {
          "base_uri": "https://localhost:8080/",
          "height": 157
        },
        "id": "fFi3o3qfK7jL",
        "outputId": "289b30aa-3d4d-4e61-b82c-fcff3e15082f"
      },
      "outputs": [
        {
          "data": {
            "image/png": "[encoded data removed]",
            "text/plain": [
              "<Figure size 720x144 with 1 Axes>"
            ]
          },
          "metadata": {
            "needs_background": "light"
          },
          "output_type": "display_data"
        }
      ],
      "source": [
        "# Plot the samples\n",
        "f, ax = plt.subplots(1, figsize=(10, 2))\n",
        "ax.scatter(feature_test[:, 0], label_test)\n",
        "f.show()"
      ]
    },
    {
      "cell_type": "markdown",
      "metadata": {
        "id": "C5szq5ZihFka"
      },
      "source": [
        "## Problem 2 - B : Predict by Ridge regression (Gradient Descent)"
      ]
    },
    {
      "cell_type": "code",
      "execution_count": null,
      "metadata": {
        "id": "LF5GhRPTjfhW"
      },
      "outputs": [],
      "source": [
        "label_test = np.zeros(SIZE_TEST_DATA) # Estimate this by Ridge regression (Gradient Descent)"
      ]
    },
    {
      "cell_type": "code",
      "execution_count": null,
      "metadata": {
        "id": "i_bQCo2aiU5j"
      },
      "outputs": [],
      "source": [
        "def predict(X, w):\n",
        "  return X@w"
      ]
    },
    {
      "cell_type": "code",
      "execution_count": null,
      "metadata": {
        "id": "xNL30ojDhYN2"
      },
      "outputs": [],
      "source": [
        "w = np.random.randn(20, 1)\n",
        "\n",
        "# gradient descent\n",
        "def analytic_gradient(X, w, y, l):\n",
        "  return X.transpose() @ (X @ w -y) + l * w\n",
        "\n",
        "lr = 0.000001 # learning rate\n",
        "for _ in range(20000):\n",
        "  w = w - lr * analytic_gradient(X, w, y, 3)\n",
        "\n",
        "label_test = np.matmul(X_test, w).tolist()"
      ]
    },
    {
      "cell_type": "code",
      "execution_count": null,
      "metadata": {
        "colab": {
          "base_uri": "https://localhost:8080/",
          "height": 157
        },
        "id": "L5uzRMLshDcz",
        "outputId": "73f4a5f7-0070-4d11-bb79-9c19df401d4d"
      },
      "outputs": [
        {
          "data": {
            "image/png": "[encoded data removed]",
            "text/plain": [
              "<Figure size 720x144 with 1 Axes>"
            ]
          },
          "metadata": {
            "needs_background": "light"
          },
          "output_type": "display_data"
        }
      ],
      "source": [
        "label_test = predict(feature_test, w).tolist()\n",
        "\n",
        "############################################################\n",
        "# Plot the samples\n",
        "f, ax = plt.subplots(1, figsize=(10, 2))\n",
        "ax.scatter(feature_test[:, 0], label_test)\n",
        "f.show()\n",
        "############################################################"
      ]
    },
    {
      "cell_type": "markdown",
      "metadata": {
        "id": "3yD5uqV2hr47"
      },
      "source": [
        "## Problem 2 - C : Noise-robust Ridge regression (Gradient Descent)"
      ]
    },
    {
      "cell_type": "code",
      "execution_count": null,
      "metadata": {
        "colab": {
          "base_uri": "https://localhost:8080/",
          "height": 157
        },
        "id": "19f3MWm2so6b",
        "outputId": "1a3cb1e9-012a-4860-fbb1-a9996081ecea"
      },
      "outputs": [
        {
          "data": {
            "image/png": "[encoded data removed]",
            "text/plain": [
              "<Figure size 720x144 with 1 Axes>"
            ]
          },
          "metadata": {
            "needs_background": "light"
          },
          "output_type": "display_data"
        }
      ],
      "source": [
        "###########################\n",
        "## NOISY REGRESSION DATA ##\n",
        "###########################\n",
        "SIZE_NOISE_DATA = 10\n",
        "NOISE_POWER = 5.0\n",
        "\n",
        "np.random.seed(0)\n",
        "label_training_noisy = label_training.copy()\n",
        "label_training_noisy[:SIZE_NOISE_DATA] = np.random.randn(SIZE_NOISE_DATA)*NOISE_POWER\n",
        "\n",
        "# Plot the samples\n",
        "f, ax = plt.subplots(1, figsize=(10, 2))\n",
        "ax.scatter(feature_training[:, 0], label_training_noisy)\n",
        "f.show()"
      ]
    },
    {
      "cell_type": "code",
      "execution_count": null,
      "metadata": {
        "id": "cDbPnuwolSP_"
      },
      "outputs": [],
      "source": [
        "label_test = np.zeros(SIZE_TEST_DATA) # Estimate this by Noise-robust L1-norm regression (Gradient Descent)"
      ]
    },
    {
      "cell_type": "code",
      "execution_count": null,
      "metadata": {
        "id": "l2ga2fsriObV"
      },
      "outputs": [],
      "source": [
        "# calculatel the gradient of huber loss\n",
        "def huber_gradient(X, w, y, l, e=1):\n",
        "  r = y - X * w\n",
        "  # gradient of quadratic loss for y-f(x) <= e\n",
        "  dw_1 = -1 * np.matmul(X.T, r)\n",
        "  # gradient of linear loss for y-f(x) > e\n",
        "  dw_2 = (-1 * X).T * (r / abs(r))\n",
        "\n",
        "  dw = np.zeros(w.shape)\n",
        "\n",
        "  # count the ratio of training features of linear case\n",
        "  linear_ratio = np.count_nonzero(abs(r) > e) / X.shape[0]\n",
        "\n",
        "  # add up gradients of quadratic and linear losses\n",
        "  dw += (1.0 - linear_ratio) * dw_1 + linear_ratio * dw_2\n",
        "\n",
        "  return dw + l * w\n",
        "\n",
        "# initial weights (randiom with standard normal distribution)\n",
        "w = np.random.randn(20, 1)\n",
        "\n",
        "lr = 0.000001 # learning rate\n",
        "for _ in range(100000):\n",
        "  # update the gradient of huber loss with noisy training label\n",
        "  w = w - lr * huber_gradient(X, w, np.matrix(label_training_noisy).T, 3)\n",
        "\n",
        "# test \n",
        "label_test = np.matmul(X_test, w).tolist()"
      ]
    },
    {
      "cell_type": "code",
      "execution_count": null,
      "metadata": {
        "colab": {
          "base_uri": "https://localhost:8080/",
          "height": 157
        },
        "id": "h5zMS4GAruaU",
        "outputId": "887bcde0-5f77-4ddb-8630-8f512b8432ac"
      },
      "outputs": [
        {
          "data": {
            "image/png": "[encoded data removed]",
            "text/plain": [
              "<Figure size 720x144 with 1 Axes>"
            ]
          },
          "metadata": {
            "needs_background": "light"
          },
          "output_type": "display_data"
        }
      ],
      "source": [
        "############################################################\n",
        "# Plot the samples\n",
        "f, ax = plt.subplots(1, figsize=(10, 2))\n",
        "ax.scatter(feature_test[:, 0], label_test)\n",
        "f.show()"
      ]
    }
  ],
  "metadata": {
    "colab": {
      "collapsed_sections": [],
      "provenance": []
    },
    "kernelspec": {
      "display_name": "Python 3.7.13 ('AI')",
      "language": "python",
      "name": "python3"
    },
    "language_info": {
      "codemirror_mode": {
        "name": "ipython",
        "version": 3
      },
      "file_extension": ".py",
      "mimetype": "text/x-python",
      "name": "python",
      "nbconvert_exporter": "python",
      "pygments_lexer": "ipython3",
      "version": "3.7.13"
    },
    "vscode": {
      "interpreter": {
        "hash": "8f1937dd5d34966cb1e4e735e790393a4b6f16e5af0b73963d134f59c8cae1b4"
      }
    }
  },
  "nbformat": 4,
  "nbformat_minor": 0
}
