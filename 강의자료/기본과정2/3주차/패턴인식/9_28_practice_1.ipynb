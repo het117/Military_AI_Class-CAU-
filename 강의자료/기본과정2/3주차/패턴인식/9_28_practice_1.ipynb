{
  "cells": [
    {
      "cell_type": "code",
      "execution_count": null,
      "metadata": {
        "id": "d7Cl6pBmVRtb"
      },
      "outputs": [],
      "source": [
        "########################################################################\n",
        "## Pattern Recognition - Practice 3 (Problem 1)\n",
        "## Chung-Ang University\n",
        "## Lecturer: Jongwon Choi (The graduate school of advanced imaging science, multimedia & film)\n",
        "##           email: choijw@cau.ac.kr\n",
        "########################################################################\n",
        "\n",
        "# DO NOT USE ANY ADDITIONAL LIBRARY\n",
        "import matplotlib as mpl\n",
        "import matplotlib.pyplot as plt\n",
        "import numpy as np"
      ]
    },
    {
      "cell_type": "markdown",
      "metadata": {
        "id": "vOz0BTt8gW_J"
      },
      "source": [
        "## Data Setting"
      ]
    },
    {
      "cell_type": "code",
      "execution_count": null,
      "metadata": {
        "colab": {
          "base_uri": "https://localhost:8080/",
          "height": 193
        },
        "id": "dAeF7FQFghN9",
        "outputId": "8afb9868-fce8-4d68-b630-61fd00775e53"
      },
      "outputs": [
        {
          "name": "stdout",
          "output_type": "stream",
          "text": [
            "(200, 20)\n",
            "(200,)\n"
          ]
        },
        {
          "data": {
            "image/png": "[encoded data removed]",
            "text/plain": [
              "<Figure size 720x144 with 1 Axes>"
            ]
          },
          "metadata": {
            "needs_background": "light"
          },
          "output_type": "display_data"
        }
      ],
      "source": [
        "#####################\n",
        "## REGRESSION DATA ##\n",
        "#####################\n",
        "SIZE_TRAINING_DATA = 200\n",
        "NOISE_RATIO = 0.5\n",
        "MIN_RANGE = 0.0\n",
        "MAX_RANGE = 10.0\n",
        "FEATURE_DIM = 20\n",
        "\n",
        "np.random.seed(0)\n",
        "feature_training = np.random.uniform(MIN_RANGE, MAX_RANGE, [SIZE_TRAINING_DATA, FEATURE_DIM])\n",
        "label_training = np.mean(np.random.rand(1, FEATURE_DIM)*feature_training, 1) + np.random.randn(SIZE_TRAINING_DATA)*NOISE_RATIO\n",
        "\n",
        "# Plot the samples\n",
        "f, ax = plt.subplots(1, figsize=(10, 2))\n",
        "ax.scatter(feature_training[:, 0], label_training)\n",
        "f.show()\n",
        "\n",
        "print(feature_training.shape)\n",
        "print(label_training.shape)\n",
        "# print(label_training)"
      ]
    },
    {
      "cell_type": "code",
      "execution_count": null,
      "metadata": {
        "colab": {
          "base_uri": "https://localhost:8080/",
          "height": 159
        },
        "id": "WsBMTjGeXxwE",
        "outputId": "b9adce12-3b35-43a0-f692-4d82814837f1"
      },
      "outputs": [
        {
          "data": {
            "image/png": "[encoded data removed]",
            "text/plain": [
              "<Figure size 720x144 with 1 Axes>"
            ]
          },
          "metadata": {
            "needs_background": "light"
          },
          "output_type": "display_data"
        }
      ],
      "source": [
        "###############\n",
        "## TEST DATA ##\n",
        "###############\n",
        "SIZE_TEST_DATA = 20\n",
        "\n",
        "np.random.seed(1)\n",
        "feature_test = np.random.uniform(MIN_RANGE, MAX_RANGE, [SIZE_TEST_DATA, FEATURE_DIM])\n",
        "\n",
        "# Plot the samples\n",
        "f, ax = plt.subplots(1, figsize=(10, 2))\n",
        "ax.scatter(feature_test[:, 0], feature_test[:, 1])\n",
        "f.show()"
      ]
    },
    {
      "cell_type": "markdown",
      "metadata": {
        "id": "wLZZEVt3gbq2"
      },
      "source": [
        "## Problem 2 - A : Estimate this by Ridge regression (Normal Equation)"
      ]
    },
    {
      "cell_type": "code",
      "execution_count": null,
      "metadata": {
        "colab": {
          "base_uri": "https://localhost:8080/"
        },
        "id": "bUfCUYGY3yxp",
        "outputId": "c20619ed-b2dc-4204-b1c7-f7baa61b6d0e"
      },
      "outputs": [
        {
          "name": "stdout",
          "output_type": "stream",
          "text": [
            "(200, 20)\n",
            "(200, 1)\n"
          ]
        }
      ],
      "source": [
        "# data should be in form of vector (column)\n",
        "label_test = np.zeros(SIZE_TEST_DATA)\n",
        "X = np.matrix(feature_training)\n",
        "y = np.matrix(label_training).T\n",
        "print(X.shape)\n",
        "print(y.shape)"
      ]
    },
    {
      "cell_type": "code",
      "execution_count": null,
      "metadata": {
        "id": "va_CbRcN4al8"
      },
      "outputs": [],
      "source": [
        "# normal equation\n",
        "def gradient(X, y, l):\n",
        "  w = np.linalg.inv(X.transpose() * X + l * np.eye(FEATURE_DIM)) * X.transpose() * y\n",
        "  return w"
      ]
    },
    {
      "cell_type": "code",
      "execution_count": null,
      "metadata": {
        "id": "epnam_wzTQQr"
      },
      "outputs": [],
      "source": [
        "w = gradient(X, y, 3)\n",
        "X_test = feature_test\n",
        "label_test = np.matmul(X_test, w).tolist()"
      ]
    },
    {
      "cell_type": "code",
      "execution_count": null,
      "metadata": {
        "colab": {
          "base_uri": "https://localhost:8080/",
          "height": 157
        },
        "id": "fFi3o3qfK7jL",
        "outputId": "3c7667fe-ea75-44a4-b8c5-389ff83efcfa"
      },
      "outputs": [
        {
          "data": {
            "image/png": "[encoded data removed]",
            "text/plain": [
              "<Figure size 720x144 with 1 Axes>"
            ]
          },
          "metadata": {
            "needs_background": "light"
          },
          "output_type": "display_data"
        }
      ],
      "source": [
        "# Plot the samples\n",
        "f, ax = plt.subplots(1, figsize=(10, 2))\n",
        "ax.scatter(feature_test[:, 0], label_test)\n",
        "f.show()"
      ]
    },
    {
      "cell_type": "markdown",
      "metadata": {
        "id": "C5szq5ZihFka"
      },
      "source": [
        "## Problem 2 - B : Predict by Ridge regression (Gradient Descent)"
      ]
    },
    {
      "cell_type": "code",
      "execution_count": null,
      "metadata": {
        "id": "LF5GhRPTjfhW"
      },
      "outputs": [],
      "source": [
        "label_test = np.zeros(SIZE_TEST_DATA) # Estimate this by Ridge regression (Gradient Descent)"
      ]
    },
    {
      "cell_type": "code",
      "execution_count": null,
      "metadata": {
        "id": "i_bQCo2aiU5j"
      },
      "outputs": [],
      "source": [
        "def predict(X, w):\n",
        "  return X@w"
      ]
    },
    {
      "cell_type": "code",
      "execution_count": null,
      "metadata": {
        "id": "xNL30ojDhYN2"
      },
      "outputs": [],
      "source": [
        "w = np.random.randn(20, 1)\n",
        "\n",
        "# gradient descent\n",
        "def analytic_gradient(X, w, y, l):\n",
        "  return #### BLANK ####\n",
        "\n",
        "lr = 0.000001 # learning rate\n",
        "for _ in range(20000):\n",
        "  w = #### BLANK ####\n",
        "\n",
        "label_test = np.matmul(X_test, w).tolist()"
      ]
    },
    {
      "cell_type": "code",
      "execution_count": null,
      "metadata": {
        "id": "L5uzRMLshDcz"
      },
      "outputs": [],
      "source": [
        "label_test = predict(feature_test, w).tolist()\n",
        "\n",
        "############################################################\n",
        "# Plot the samples\n",
        "f, ax = plt.subplots(1, figsize=(10, 2))\n",
        "ax.scatter(feature_test[:, 0], label_test)\n",
        "f.show()\n",
        "############################################################"
      ]
    },
    {
      "cell_type": "markdown",
      "metadata": {
        "id": "3yD5uqV2hr47"
      },
      "source": [
        "## Problem 2 - C : Noise-robust Ridge regression (Gradient Descent)"
      ]
    },
    {
      "cell_type": "code",
      "execution_count": null,
      "metadata": {
        "id": "19f3MWm2so6b"
      },
      "outputs": [],
      "source": [
        "###########################\n",
        "## NOISY REGRESSION DATA ##\n",
        "###########################\n",
        "SIZE_NOISE_DATA = 10\n",
        "NOISE_POWER = 5.0\n",
        "\n",
        "np.random.seed(0)\n",
        "label_training_noisy = label_training.copy()\n",
        "label_training_noisy[:SIZE_NOISE_DATA] = np.random.randn(SIZE_NOISE_DATA)*NOISE_POWER\n",
        "\n",
        "# Plot the samples\n",
        "f, ax = plt.subplots(1, figsize=(10, 2))\n",
        "ax.scatter(feature_training[:, 0], label_training_noisy)\n",
        "f.show()"
      ]
    },
    {
      "cell_type": "code",
      "execution_count": null,
      "metadata": {
        "id": "cDbPnuwolSP_"
      },
      "outputs": [],
      "source": [
        "label_test = np.zeros(SIZE_TEST_DATA) # Estimate this by Noise-robust L1-norm regression (Gradient Descent)"
      ]
    },
    {
      "cell_type": "code",
      "execution_count": null,
      "metadata": {
        "id": "l2ga2fsriObV"
      },
      "outputs": [],
      "source": [
        "# calculate the gradient of huber loss\n",
        "def huber_gradient(X, w, y, l, e=1):\n",
        "\n",
        "  r = y - X * w\n",
        "  # gradient of quadratic loss for y-f(x) <= e\n",
        "  dw_1 = \n",
        "  # gradient of linear loss for y-f(x) > e\n",
        "  dw_2 =\n",
        "\n",
        "  dw = np.zeros(w.shape)\n",
        "\n",
        "  # count the ratio of training features of linear case\n",
        "  linear_ratio = \n",
        "  # add up gradients of quadratic and linear losses\n",
        "  dw =\n",
        "\n",
        "\n",
        "\n",
        "  return #### BLANK ####\n",
        "\n",
        "# initial weights (randiom with standard normal distribution)\n",
        "w = np.random.randn(20, 1)\n",
        "\n",
        "lr = 0.000001 # learning rate\n",
        "for _ in range(100000):\n",
        "  # update the gradient of huber loss with noisy training label\n",
        "  w = #### BLANK ####\n",
        "\n",
        "# test \n",
        "label_test = np.matmul(X_test, w).tolist()"
      ]
    },
    {
      "cell_type": "code",
      "execution_count": null,
      "metadata": {
        "id": "h5zMS4GAruaU"
      },
      "outputs": [],
      "source": [
        "############################################################\n",
        "# Plot the samples\n",
        "f, ax = plt.subplots(1, figsize=(10, 2))\n",
        "ax.scatter(feature_test[:, 0], label_test)\n",
        "f.show()"
      ]
    },
    {
      "cell_type": "code",
      "execution_count": null,
      "metadata": {
        "id": "S-LwFfC2nFQ1"
      },
      "outputs": [],
      "source": []
    }
  ],
  "metadata": {
    "colab": {
      "collapsed_sections": [],
      "provenance": []
    },
    "kernelspec": {
      "display_name": "Python 3.7.13 ('AI')",
      "language": "python",
      "name": "python3"
    },
    "language_info": {
      "name": "python",
      "version": "3.7.13"
    },
    "vscode": {
      "interpreter": {
        "hash": "8f1937dd5d34966cb1e4e735e790393a4b6f16e5af0b73963d134f59c8cae1b4"
      }
    }
  },
  "nbformat": 4,
  "nbformat_minor": 0
}
