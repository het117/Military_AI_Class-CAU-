{
  "cells": [
    {
      "cell_type": "code",
      "execution_count": 2,
      "metadata": {
        "id": "rFq7DIl8WdRp"
      },
      "outputs": [],
      "source": [
        "from IPython.display import Image\n",
        "import seaborn as sns\n",
        "\n",
        "iris = sns.load_dataset(\"iris\")"
      ]
    },
    {
      "cell_type": "code",
      "execution_count": 3,
      "metadata": {
        "id": "c64drfqw86pU"
      },
      "outputs": [],
      "source": [
        "# Training Set Configuration\n",
        "train = iris.sample(frac=0.7, random_state=500)\n",
        "\n",
        "# Test Set Configuration\n",
        "test = iris.drop(train.index)\n",
        "\n",
        "# Label remove\n",
        "X_train = train.drop(labels='species', axis=1)\n",
        "\n",
        "# Label stack\n",
        "y_train = train.species\n",
        "\n",
        "# Label remove\n",
        "X_test = test.drop(labels='species', axis=1)\n",
        "\n",
        "# Label stack\n",
        "y_test = test.species"
      ]
    },
    {
      "cell_type": "code",
      "execution_count": 4,
      "metadata": {
        "colab": {
          "base_uri": "https://localhost:8080/"
        },
        "id": "LNrj6ggnqUHn",
        "outputId": "081eeeae-f1ab-4a25-abfa-8a921865ad8d"
      },
      "outputs": [
        {
          "name": "stdout",
          "output_type": "stream",
          "text": [
            "['setosa' 'setosa' 'setosa' 'setosa' 'setosa' 'setosa' 'setosa' 'setosa'\n",
            " 'setosa' 'setosa' 'setosa' 'setosa' 'versicolor' 'versicolor'\n",
            " 'versicolor' 'versicolor' 'versicolor' 'versicolor' 'versicolor'\n",
            " 'versicolor']\n"
          ]
        },
        {
          "data": {
            "text/plain": [
              "0.9555555555555556"
            ]
          },
          "execution_count": 4,
          "metadata": {},
          "output_type": "execute_result"
        }
      ],
      "source": [
        "# KNN Classifier\n",
        "from sklearn.neighbors import KNeighborsClassifier\n",
        "\n",
        "knn = KNeighborsClassifier(n_neighbors=3)\n",
        "\n",
        "# Training\n",
        "knn.fit(X_train,y_train)\n",
        "\n",
        "# Prediction\n",
        "results = knn.predict(X_test)\n",
        "print(results[:20])\n",
        "y_test[:20]\n",
        "\n",
        "# Testing\n",
        "knn.score(X_test,y_test)"
      ]
    },
    {
      "cell_type": "code",
      "execution_count": 5,
      "metadata": {
        "colab": {
          "base_uri": "https://localhost:8080/"
        },
        "id": "BxkkaFBl7x1m",
        "outputId": "cf84df42-2913-40b8-ba81-040d110377cd"
      },
      "outputs": [
        {
          "name": "stdout",
          "output_type": "stream",
          "text": [
            "['setosa' 'setosa' 'setosa' 'setosa' 'setosa' 'setosa' 'setosa' 'setosa'\n",
            " 'setosa' 'setosa' 'setosa' 'setosa' 'versicolor' 'versicolor'\n",
            " 'versicolor' 'versicolor' 'versicolor' 'versicolor' 'versicolor'\n",
            " 'versicolor']\n"
          ]
        },
        {
          "data": {
            "text/plain": [
              "0.9555555555555556"
            ]
          },
          "execution_count": 5,
          "metadata": {},
          "output_type": "execute_result"
        }
      ],
      "source": [
        "# Decision Tree\n",
        "from sklearn.tree import DecisionTreeClassifier\n",
        "\n",
        "tree = DecisionTreeClassifier()\n",
        "\n",
        "# Training\n",
        "tree.fit(X_train,y_train)\n",
        "\n",
        "# Prediction\n",
        "results = tree.predict(X_test)\n",
        "print(results[:20])\n",
        "y_test[:20]\n",
        "\n",
        "# Testing\n",
        "tree.score(X_test,y_test)"
      ]
    },
    {
      "cell_type": "code",
      "execution_count": 6,
      "metadata": {
        "colab": {
          "base_uri": "https://localhost:8080/"
        },
        "id": "IUQKvz7zpJil",
        "outputId": "5425eb90-0c59-4a06-bd7b-38699ffce030"
      },
      "outputs": [
        {
          "name": "stdout",
          "output_type": "stream",
          "text": [
            "['setosa' 'setosa' 'setosa' 'setosa' 'setosa' 'setosa' 'setosa' 'setosa'\n",
            " 'setosa' 'setosa' 'setosa' 'setosa' 'versicolor' 'versicolor'\n",
            " 'versicolor' 'versicolor' 'versicolor' 'versicolor' 'versicolor'\n",
            " 'versicolor']\n"
          ]
        },
        {
          "data": {
            "text/plain": [
              "0.9333333333333333"
            ]
          },
          "execution_count": 6,
          "metadata": {},
          "output_type": "execute_result"
        }
      ],
      "source": [
        "# SVM Classifier\n",
        "from sklearn.svm import SVC\n",
        "\n",
        "svm = SVC()\n",
        "\n",
        "# Training\n",
        "svm.fit(X_train,y_train)\n",
        "\n",
        "# Prediction\n",
        "results = svm.predict(X_test)\n",
        "print(results[:20])\n",
        "y_test[:20]\n",
        "\n",
        "# Testing\n",
        "svm.score(X_test,y_test)"
      ]
    }
  ],
  "metadata": {
    "colab": {
      "collapsed_sections": [],
      "name": "coding_lab14",
      "provenance": [],
      "toc_visible": true
    },
    "kernelspec": {
      "display_name": "Python 3.7.13 ('AI')",
      "language": "python",
      "name": "python3"
    },
    "language_info": {
      "codemirror_mode": {
        "name": "ipython",
        "version": 3
      },
      "file_extension": ".py",
      "mimetype": "text/x-python",
      "name": "python",
      "nbconvert_exporter": "python",
      "pygments_lexer": "ipython3",
      "version": "3.7.13"
    },
    "vscode": {
      "interpreter": {
        "hash": "8f1937dd5d34966cb1e4e735e790393a4b6f16e5af0b73963d134f59c8cae1b4"
      }
    }
  },
  "nbformat": 4,
  "nbformat_minor": 0
}
