{
  "cells": [
    {
      "cell_type": "code",
      "execution_count": 10,
      "metadata": {
        "id": "d7Cl6pBmVRtb"
      },
      "outputs": [],
      "source": [
        "########################################################################\n",
        "## Pattern Recognition - Practice1 (Problem 1)\n",
        "## Chung-Ang University\n",
        "## Lecturer: Jongwon Choi (The graduate school of advanced imaging science, multimedia & film)\n",
        "##           email: choijw@cau.ac.kr\n",
        "########################################################################\n",
        "\n",
        "# DO NOT USE ANY ADDITIONAL LIBRARY\n",
        "import matplotlib as mpl\n",
        "import matplotlib.pyplot as plt\n",
        "import numpy as np\n"
      ]
    },
    {
      "cell_type": "markdown",
      "metadata": {
        "id": "I61-FYGREWN6"
      },
      "source": [
        "## Data Setting (training/test dataset)"
      ]
    },
    {
      "cell_type": "code",
      "execution_count": 11,
      "metadata": {
        "id": "dAeF7FQFghN9"
      },
      "outputs": [
        {
          "name": "stdout",
          "output_type": "stream",
          "text": [
            "(400, 50)\n",
            "(400,)\n"
          ]
        },
        {
          "name": "stderr",
          "output_type": "stream",
          "text": [
            "c:\\Users\\cau\\anaconda3\\envs\\AI\\lib\\site-packages\\ipykernel_launcher.py:18: UserWarning: Matplotlib is currently using module://matplotlib_inline.backend_inline, which is a non-GUI backend, so cannot show the figure.\n"
          ]
        },
        {
          "data": {
            "image/png": "[encoded data removed]",
            "text/plain": [
              "<Figure size 720x144 with 1 Axes>"
            ]
          },
          "metadata": {
            "needs_background": "light"
          },
          "output_type": "display_data"
        }
      ],
      "source": [
        "###################\n",
        "## TRAINING DATA ##\n",
        "###################\n",
        "from operator import le\n",
        "\n",
        "\n",
        "SIZE_TRAINING_DATA = 200\n",
        "FEATURE_DIM = 50\n",
        "np.random.seed(0)\n",
        "feature_training = np.concatenate( (np.random.randn(SIZE_TRAINING_DATA, FEATURE_DIM), np.random.randn(SIZE_TRAINING_DATA, FEATURE_DIM) + 0.1), 0 )\n",
        "label_training = np.concatenate( (np.zeros(SIZE_TRAINING_DATA), np.ones(SIZE_TRAINING_DATA)), 0)\n",
        "\n",
        "# Plot the samples\n",
        "f, ax = plt.subplots(1, figsize=(10, 2))\n",
        "\n",
        "ax.scatter(feature_training[label_training==0, 0], feature_training[label_training==0, 1])\n",
        "ax.scatter(feature_training[label_training==1, 0], feature_training[label_training==1, 1])\n",
        "f.show()\n",
        "\n",
        "print(feature_training.shape)\n",
        "print(label_training.shape)"
      ]
    },
    {
      "cell_type": "code",
      "execution_count": 12,
      "metadata": {
        "id": "WsBMTjGeXxwE"
      },
      "outputs": [
        {
          "name": "stdout",
          "output_type": "stream",
          "text": [
            "(40, 50)\n"
          ]
        },
        {
          "name": "stderr",
          "output_type": "stream",
          "text": [
            "c:\\Users\\cau\\anaconda3\\envs\\AI\\lib\\site-packages\\ipykernel_launcher.py:11: UserWarning: Matplotlib is currently using module://matplotlib_inline.backend_inline, which is a non-GUI backend, so cannot show the figure.\n",
            "  # This is added back by InteractiveShellApp.init_path()\n"
          ]
        },
        {
          "data": {
            "image/png": "[encoded data removed]",
            "text/plain": [
              "<Figure size 720x144 with 1 Axes>"
            ]
          },
          "metadata": {
            "needs_background": "light"
          },
          "output_type": "display_data"
        }
      ],
      "source": [
        "###############\n",
        "## TEST DATA ##\n",
        "###############\n",
        "SIZE_TEST_DATA = 20\n",
        "np.random.seed(1)\n",
        "feature_test = np.concatenate( (np.random.randn(SIZE_TEST_DATA,FEATURE_DIM), np.random.randn(SIZE_TEST_DATA,FEATURE_DIM) + 1.0), 0 )\n",
        "\n",
        "# Plot the samples\n",
        "f, ax = plt.subplots(1, figsize=(10, 2))\n",
        "ax.scatter(feature_test[:, 0], feature_test[:, 1])\n",
        "f.show()\n",
        "\n",
        "print(feature_test.shape)"
      ]
    },
    {
      "cell_type": "markdown",
      "metadata": {
        "id": "762Zj-WqEL_h"
      },
      "source": [
        "\n",
        "## Problem 1 - A\n"
      ]
    },
    {
      "cell_type": "code",
      "execution_count": 13,
      "metadata": {
        "id": "ERvN4eMMiwIj"
      },
      "outputs": [],
      "source": [
        "import math\n",
        "\n",
        "def euclidean_distance(x1, x2):\n",
        "    distance = 0\n",
        "    for i in range(len(x1)):\n",
        "        distance += (x1[i] - x2[i]) ** 2\n",
        "        \n",
        "    return math.sqrt(float(distance))\n",
        "\n",
        "def kNN(k, training_data, label_training_data, test_data):\n",
        "    distance = np.zeros((len(training_data), 2))\n",
        "    label_test = np.zeros(len(test_data))\n",
        "\n",
        "    for i in range(len(test_data)):\n",
        "        for j in range(len(training_data)):\n",
        "            distance[j, 0] = euclidean_distance(training_data[j], test_data[i])\n",
        "            distance[j, 1] = label_training_data[j]\n",
        "\n",
        "        # sort by distance\n",
        "        distance = distance[distance[:, 0].argsort()]\n",
        "        # select majority labels\n",
        "        labels = distance[:k, 1].tolist()\n",
        "        label_test[i] = max(set(labels), key=labels.count)\n",
        "\n",
        "    return label_test\n",
        "\n",
        "label_test = kNN(3, feature_training, label_training, feature_test)"
      ]
    },
    {
      "cell_type": "code",
      "execution_count": 14,
      "metadata": {
        "id": "GW0v4iI52MLZ"
      },
      "outputs": [],
      "source": [
        "# Plot the samples\n",
        "def plot_kNN(x, y):\n",
        "  f, ax = plt.subplots(1, figsize=(10, 2))\n",
        "  ax.scatter(x[y==0, 0], x[y==0, 1])\n",
        "  ax.scatter(x[y==1, 0], x[y==1, 1])\n",
        "  f.show()"
      ]
    },
    {
      "cell_type": "code",
      "execution_count": 15,
      "metadata": {
        "id": "FVS6svfz9VKO"
      },
      "outputs": [
        {
          "name": "stdout",
          "output_type": "stream",
          "text": [
            "k = 1\n"
          ]
        },
        {
          "name": "stderr",
          "output_type": "stream",
          "text": [
            "c:\\Users\\cau\\anaconda3\\envs\\AI\\lib\\site-packages\\ipykernel_launcher.py:6: UserWarning: Matplotlib is currently using module://matplotlib_inline.backend_inline, which is a non-GUI backend, so cannot show the figure.\n",
            "  \n"
          ]
        },
        {
          "name": "stdout",
          "output_type": "stream",
          "text": [
            "k = 3\n",
            "k = 5\n",
            "k = 7\n",
            "k = 9\n"
          ]
        },
        {
          "data": {
            "image/png": "[encoded data removed]",
            "text/plain": [
              "<Figure size 720x144 with 1 Axes>"
            ]
          },
          "metadata": {
            "needs_background": "light"
          },
          "output_type": "display_data"
        },
        {
          "data": {
            "image/png": "[encoded data removed]",
            "text/plain": [
              "<Figure size 720x144 with 1 Axes>"
            ]
          },
          "metadata": {
            "needs_background": "light"
          },
          "output_type": "display_data"
        },
        {
          "data": {
            "image/png": "[encoded data removed]",
            "text/plain": [
              "<Figure size 720x144 with 1 Axes>"
            ]
          },
          "metadata": {
            "needs_background": "light"
          },
          "output_type": "display_data"
        },
        {
          "data": {
            "image/png": "[encoded data removed]",
            "text/plain": [
              "<Figure size 720x144 with 1 Axes>"
            ]
          },
          "metadata": {
            "needs_background": "light"
          },
          "output_type": "display_data"
        },
        {
          "data": {
            "image/png": "[encoded data removed]",
            "text/plain": [
              "<Figure size 720x144 with 1 Axes>"
            ]
          },
          "metadata": {
            "needs_background": "light"
          },
          "output_type": "display_data"
        }
      ],
      "source": [
        "# Plot the samples when k=1,3,5,7,9\n",
        "for k in (1,3,5,7,9):\n",
        "  print(f'k = {k}')\n",
        "  label_test = kNN(k, feature_training, label_training, feature_test)\n",
        "  plot_kNN(feature_test, label_test)"
      ]
    },
    {
      "cell_type": "markdown",
      "metadata": {
        "id": "S9wqXsREEp83"
      },
      "source": [
        "## Problem 1 - B"
      ]
    },
    {
      "cell_type": "code",
      "execution_count": 16,
      "metadata": {
        "id": "4KmvSiF6Aqm-"
      },
      "outputs": [],
      "source": [
        "def CrossValidation(k, training_data, label_training_data):\n",
        "  error = 0\n",
        "  # split training data: [0, 80, 160, 240, 320, 400]\n",
        "  sliced_li = [i for i in range(0, len(training_data)+1, len(training_data) // 5)]\n",
        "\n",
        "  # 5-fold cross-validation\n",
        "  for i in range(5):\n",
        "    # split to test data\n",
        "    test_data = training_data[sliced_li[i]:sliced_li[i+1]]\n",
        "    label_test_data = label_training_data[sliced_li[i]:sliced_li[i+1]]\n",
        "\n",
        "    # delete test data from training_data\n",
        "    test_index = [j for j in range(sliced_li[i], sliced_li[i+1])]\n",
        "    train_data = np.delete(training_data, test_index, axis=0)\n",
        "    label_train_data = np.delete(label_training_data, test_index, axis=0)\n",
        "\n",
        "    #### BLANK ####\n",
        "    pred = kNN(k, train_data, label_train_data, test_data)\n",
        "    error += (pred != label_test_data).sum()\n",
        "    \n",
        "  return error"
      ]
    },
    {
      "cell_type": "code",
      "execution_count": 17,
      "metadata": {
        "id": "8_s6-9p4gZoX"
      },
      "outputs": [],
      "source": [
        "candidate_k = [1,3,5,7,9]\n",
        "error_list = [0,0,0,0,0]\n",
        "for i, k in enumerate(candidate_k):\n",
        "  error = CrossValidation(k, feature_training, label_training)\n",
        "  error_list[i] = error"
      ]
    },
    {
      "cell_type": "code",
      "execution_count": 18,
      "metadata": {
        "id": "fitzx10x2Ju4"
      },
      "outputs": [
        {
          "name": "stdout",
          "output_type": "stream",
          "text": [
            "best hyperparameter k: 1\n"
          ]
        }
      ],
      "source": [
        "# sort list_dist with the error by ascending order\n",
        "best_k = candidate_k[sorted(range(len(error_list)), key=lambda k: error_list[k])[0]]\n",
        "print(f'best hyperparameter k: {best_k}')"
      ]
    },
    {
      "cell_type": "markdown",
      "metadata": {
        "id": "lb5_fn3hGguN"
      },
      "source": [
        "## Problem 1 - C"
      ]
    },
    {
      "cell_type": "code",
      "execution_count": 19,
      "metadata": {
        "id": "cDbPnuwolSP_"
      },
      "outputs": [],
      "source": [
        "\n",
        "def bootstrap_kNN(k, num_bootstrap, training_data, label_training_data, test_data):\n",
        "  boot_pred = np.zeros((num_bootstrap, len(test_data)))\n",
        "  # start bootstrap\n",
        "  train_index_li = [i for i in range(len(training_data))]\n",
        "  for j in range(num_bootstrap):\n",
        "    # randomly select index with replacement\n",
        "    new_index = np.random.choice(train_index_li, len(training_data), replace=True)\n",
        "    \n",
        "    # bootstrapped train data and its labels\n",
        "    train_data = training_data[new_index]\n",
        "    train_label = label_training_data[new_index]\n",
        "\n",
        "    pred_test = kNN(k, train_data, train_label, test_data)\n",
        "    boot_pred[j, :] = pred_test\n",
        "\n",
        "  # get mode value for each test data\n",
        "  test_label_prediction = np.apply_along_axis(lambda x: np.bincount(x).argmax(), axis=0, arr=boot_pred.astype('int64'))\n",
        "\n",
        "  return test_label_prediction"
      ]
    },
    {
      "cell_type": "code",
      "execution_count": 20,
      "metadata": {
        "id": "Bevu_-yDiQCF"
      },
      "outputs": [
        {
          "name": "stderr",
          "output_type": "stream",
          "text": [
            "c:\\Users\\cau\\anaconda3\\envs\\AI\\lib\\site-packages\\ipykernel_launcher.py:8: UserWarning: Matplotlib is currently using module://matplotlib_inline.backend_inline, which is a non-GUI backend, so cannot show the figure.\n",
            "  \n"
          ]
        },
        {
          "data": {
            "image/png": "[encoded data removed]",
            "text/plain": [
              "<Figure size 720x144 with 1 Axes>"
            ]
          },
          "metadata": {
            "needs_background": "light"
          },
          "output_type": "display_data"
        }
      ],
      "source": [
        "num_bootstrap = 5\n",
        "label_test = bootstrap_kNN(best_k, num_bootstrap, feature_training, label_training, feature_test)\n",
        "\n",
        "# Plot the samples\n",
        "f, ax = plt.subplots(1, figsize=(10, 2))\n",
        "ax.scatter(feature_test[label_test==0, 0], feature_test[label_test==0, 1])\n",
        "ax.scatter(feature_test[label_test==1, 0], feature_test[label_test==1, 1])\n",
        "f.show()"
      ]
    },
    {
      "cell_type": "markdown",
      "metadata": {
        "id": "Iry5hzrOHqS1"
      },
      "source": [
        "## Problem 1 - D"
      ]
    },
    {
      "cell_type": "code",
      "execution_count": 22,
      "metadata": {
        "id": "1fM-J-G_lWKk"
      },
      "outputs": [
        {
          "name": "stdout",
          "output_type": "stream",
          "text": [
            "Problem 1-A : 0.3467888832092285\n",
            "[0. 0. 1. 1. 0. 0. 1. 0. 1. 0. 1. 1. 1. 1. 0. 1. 1. 0. 1. 1. 1. 1. 1. 1.\n",
            " 1. 1. 1. 1. 1. 1. 1. 1. 0. 1. 1. 1. 1. 1. 0. 1.]\n",
            "Problem 1-D : 0.0019996166229248047\n",
            "[0. 0. 1. 1. 0. 0. 1. 0. 1. 0. 1. 1. 1. 1. 0. 1. 1. 0. 1. 1. 1. 1. 1. 1.\n",
            " 1. 1. 1. 1. 1. 1. 1. 1. 0. 1. 1. 1. 1. 1. 0. 1.]\n"
          ]
        },
        {
          "name": "stderr",
          "output_type": "stream",
          "text": [
            "c:\\Users\\cau\\anaconda3\\envs\\AI\\lib\\site-packages\\ipykernel_launcher.py:34: UserWarning: Matplotlib is currently using module://matplotlib_inline.backend_inline, which is a non-GUI backend, so cannot show the figure.\n"
          ]
        },
        {
          "data": {
            "image/png": "[encoded data removed]",
            "text/plain": [
              "<Figure size 720x144 with 1 Axes>"
            ]
          },
          "metadata": {
            "needs_background": "light"
          },
          "output_type": "display_data"
        }
      ],
      "source": [
        "#############################################################\n",
        "## Bonus Problem 1 - D\n",
        "## For this problem, you need to show and compare the computational time of Problem 1-A and 1-D.\n",
        "label_test = np.zeros(SIZE_TEST_DATA*2) # Estimate this by k-NN classifier (Double up the speed from Problem 1-A)\n",
        "\n",
        "############################################################\n",
        "def kNN_2(k, training_data, label_training_data, test_data):\n",
        "  distance = np.zeros((len(test_data), len(training_data)))\n",
        "  label_test = np.zeros(len(test_data))\n",
        "  \n",
        "  for i in range(len(test_data)):\n",
        "      distance[i] = np.linalg.norm(test_data[i]-training_data, axis = 1)\n",
        "      candidates = label_training_data[distance[i].argsort()[:k]].tolist()\n",
        "      label_test[i] = max(set(candidates), key=candidates.count)\n",
        "      \n",
        "  return label_test\n",
        "\n",
        "import time\n",
        "start = time.time()\n",
        "label_test = kNN(3, feature_training, label_training, feature_test)\n",
        "print(\"Problem 1-A :\", time.time() - start)\n",
        "print(label_test)\n",
        "\n",
        "start = time.time()\n",
        "label_test = kNN_2(3, feature_training, label_training, feature_test)\n",
        "print(\"Problem 1-D :\", time.time() - start)\n",
        "print(label_test)\n",
        "############################################################\n",
        "\n",
        "# Plot the samples\n",
        "f, ax = plt.subplots(1, figsize=(10, 2))\n",
        "ax.scatter(feature_test[label_test==0, 0], feature_test[label_test==0, 1])\n",
        "ax.scatter(feature_test[label_test==1, 0], feature_test[label_test==1, 1])\n",
        "f.show()"
      ]
    }
  ],
  "metadata": {
    "colab": {
      "collapsed_sections": [],
      "provenance": []
    },
    "kernelspec": {
      "display_name": "Python 3.7.13 ('AI')",
      "language": "python",
      "name": "python3"
    },
    "language_info": {
      "codemirror_mode": {
        "name": "ipython",
        "version": 3
      },
      "file_extension": ".py",
      "mimetype": "text/x-python",
      "name": "python",
      "nbconvert_exporter": "python",
      "pygments_lexer": "ipython3",
      "version": "3.7.13"
    },
    "vscode": {
      "interpreter": {
        "hash": "8f1937dd5d34966cb1e4e735e790393a4b6f16e5af0b73963d134f59c8cae1b4"
      }
    }
  },
  "nbformat": 4,
  "nbformat_minor": 0
}
