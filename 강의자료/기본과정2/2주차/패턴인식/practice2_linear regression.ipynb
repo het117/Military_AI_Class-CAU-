{
  "cells": [
    {
      "cell_type": "code",
      "execution_count": 3,
      "metadata": {
        "id": "d7Cl6pBmVRtb"
      },
      "outputs": [],
      "source": [
        "########################################################################\n",
        "## Pattern Recognition - Practice2 (Problem 2)\n",
        "## Chung-Ang University\n",
        "## Lecturer: Jongwon Choi (The graduate school of advanced imaging science, multimedia & film)\n",
        "##           email: choijw@cau.ac.kr\n",
        "########################################################################\n",
        "\n",
        "# DO NOT USE ANY ADDITIONAL LIBRARY\n",
        "import matplotlib as mpl\n",
        "import matplotlib.pyplot as plt\n",
        "import numpy as np"
      ]
    },
    {
      "cell_type": "markdown",
      "metadata": {
        "id": "vOz0BTt8gW_J"
      },
      "source": [
        "## Data Setting"
      ]
    },
    {
      "cell_type": "code",
      "execution_count": 4,
      "metadata": {
        "id": "dAeF7FQFghN9"
      },
      "outputs": [
        {
          "name": "stdout",
          "output_type": "stream",
          "text": [
            "(200, 20)\n",
            "(200,)\n"
          ]
        },
        {
          "name": "stderr",
          "output_type": "stream",
          "text": [
            "c:\\Users\\cau\\anaconda3\\envs\\AI\\lib\\site-packages\\ipykernel_launcher.py:17: UserWarning: Matplotlib is currently using module://matplotlib_inline.backend_inline, which is a non-GUI backend, so cannot show the figure.\n"
          ]
        },
        {
          "data": {
            "image/png": "[encoded data removed]",
            "text/plain": [
              "<Figure size 720x144 with 1 Axes>"
            ]
          },
          "metadata": {
            "needs_background": "light"
          },
          "output_type": "display_data"
        }
      ],
      "source": [
        "#####################\n",
        "## REGRESSION DATA ##\n",
        "#####################\n",
        "SIZE_TRAINING_DATA = 200\n",
        "NOISE_RATIO = 0.5\n",
        "MIN_RANGE = 0.0\n",
        "MAX_RANGE = 10.0\n",
        "FEATURE_DIM = 20\n",
        "\n",
        "np.random.seed(0)\n",
        "feature_training = np.random.uniform(MIN_RANGE, MAX_RANGE, [SIZE_TRAINING_DATA, FEATURE_DIM])\n",
        "label_training = np.mean(np.random.rand(1, FEATURE_DIM)*feature_training, 1) + np.random.randn(SIZE_TRAINING_DATA)*NOISE_RATIO\n",
        "\n",
        "# Plot the samples\n",
        "f, ax = plt.subplots(1, figsize=(10, 2))\n",
        "ax.scatter(feature_training[:, 0], label_training)\n",
        "f.show()\n",
        "\n",
        "print(feature_training.shape)\n",
        "print(label_training.shape)\n",
        "# print(label_training)"
      ]
    },
    {
      "cell_type": "code",
      "execution_count": 5,
      "metadata": {
        "id": "WsBMTjGeXxwE"
      },
      "outputs": [
        {
          "name": "stderr",
          "output_type": "stream",
          "text": [
            "c:\\Users\\cau\\anaconda3\\envs\\AI\\lib\\site-packages\\ipykernel_launcher.py:12: UserWarning: Matplotlib is currently using module://matplotlib_inline.backend_inline, which is a non-GUI backend, so cannot show the figure.\n",
            "  if sys.path[0] == '':\n"
          ]
        },
        {
          "data": {
            "image/png": "[encoded data removed]",
            "text/plain": [
              "<Figure size 720x144 with 1 Axes>"
            ]
          },
          "metadata": {
            "needs_background": "light"
          },
          "output_type": "display_data"
        }
      ],
      "source": [
        "###############\n",
        "## TEST DATA ##\n",
        "###############\n",
        "SIZE_TEST_DATA = 20\n",
        "\n",
        "np.random.seed(1)\n",
        "feature_test = np.random.uniform(MIN_RANGE, MAX_RANGE, [SIZE_TEST_DATA, FEATURE_DIM])\n",
        "\n",
        "# Plot the samples\n",
        "f, ax = plt.subplots(1, figsize=(10, 2))\n",
        "ax.scatter(feature_test[:, 0], feature_test[:, 1])\n",
        "f.show()"
      ]
    },
    {
      "cell_type": "markdown",
      "metadata": {
        "id": "wLZZEVt3gbq2"
      },
      "source": [
        "## Problem 2 - A : Estimate this by linear regression (Normal Equation)"
      ]
    },
    {
      "cell_type": "code",
      "execution_count": 6,
      "metadata": {
        "id": "bUfCUYGY3yxp"
      },
      "outputs": [
        {
          "name": "stdout",
          "output_type": "stream",
          "text": [
            "(200, 20)\n",
            "(200, 1)\n"
          ]
        }
      ],
      "source": [
        "# data should be in form of vector (column)\n",
        "label_test = np.zeros(SIZE_TEST_DATA)\n",
        "X = np.matrix(feature_training)\n",
        "y = np.matrix(label_training).T\n",
        "print(X.shape)\n",
        "print(y.shape)"
      ]
    },
    {
      "cell_type": "code",
      "execution_count": 22,
      "metadata": {
        "id": "va_CbRcN4al8"
      },
      "outputs": [],
      "source": [
        "def gradient(X, y, l):\n",
        "  w = np.linalg.inv(X.T * X) * X.T * y\n",
        "\n",
        "  return w"
      ]
    },
    {
      "cell_type": "code",
      "execution_count": 23,
      "metadata": {
        "id": "epnam_wzTQQr"
      },
      "outputs": [
        {
          "name": "stdout",
          "output_type": "stream",
          "text": [
            "[[2.089887127826365], [2.872409063730772], [1.9317881766557856], [2.2532187568804085], [2.5962586458788612], [3.5711701858204563], [2.0932390765845046], [2.6128086082189546], [2.323011246496965], [3.059026914649428], [2.826751822649136], [3.1401575285029475], [3.032823558045332], [2.809335683324668], [2.5378999258946084], [1.8351395205365608], [2.5218711533079063], [2.61600851175678], [2.2872219097939603], [2.3741555308282054]]\n"
          ]
        }
      ],
      "source": [
        "w = gradient(X, y, 3)\n",
        "X_test = feature_test\n",
        "label_test = np.matmul(X_test, w).tolist()\n",
        "\n",
        "print(label_test)"
      ]
    },
    {
      "cell_type": "code",
      "execution_count": 24,
      "metadata": {
        "id": "fFi3o3qfK7jL"
      },
      "outputs": [
        {
          "name": "stderr",
          "output_type": "stream",
          "text": [
            "c:\\Users\\cau\\anaconda3\\envs\\AI\\lib\\site-packages\\ipykernel_launcher.py:4: UserWarning: Matplotlib is currently using module://matplotlib_inline.backend_inline, which is a non-GUI backend, so cannot show the figure.\n",
            "  after removing the cwd from sys.path.\n"
          ]
        },
        {
          "data": {
            "image/png": "[encoded data removed]",
            "text/plain": [
              "<Figure size 720x144 with 1 Axes>"
            ]
          },
          "metadata": {
            "needs_background": "light"
          },
          "output_type": "display_data"
        }
      ],
      "source": [
        "# Plot the samples\n",
        "f, ax = plt.subplots(1, figsize=(10, 2))\n",
        "ax.scatter(feature_test[:, 0], label_test)\n",
        "f.show()"
      ]
    },
    {
      "cell_type": "markdown",
      "metadata": {
        "id": "OcrFxN8ui0WY"
      },
      "source": [
        "## Problem 2 - B : Estimate this by Ridge regression (Normal Equation)"
      ]
    },
    {
      "cell_type": "code",
      "execution_count": 25,
      "metadata": {
        "id": "OI9Y-rVaiv2m"
      },
      "outputs": [
        {
          "name": "stdout",
          "output_type": "stream",
          "text": [
            "(200, 20)\n",
            "(200, 1)\n"
          ]
        }
      ],
      "source": [
        "# data should be in form of vector (column)\n",
        "label_test = np.zeros(SIZE_TEST_DATA)\n",
        "X = np.matrix(feature_training)\n",
        "y = np.matrix(label_training).T\n",
        "print(X.shape)\n",
        "print(y.shape)"
      ]
    },
    {
      "cell_type": "code",
      "execution_count": 32,
      "metadata": {
        "id": "LsgEcr0ai3Dw"
      },
      "outputs": [],
      "source": [
        "def gradient(X, y, l):\n",
        "  w = np.linalg.inv(X.T * X + l * np.identity(X.shape[1])) * X.T * y\n",
        "\n",
        "  return w"
      ]
    },
    {
      "cell_type": "code",
      "execution_count": 34,
      "metadata": {
        "id": "GUFonWzAi4nO"
      },
      "outputs": [
        {
          "name": "stdout",
          "output_type": "stream",
          "text": [
            "[[2.0894226174110786], [2.8719931792192344], [1.932086510201263], [2.2541723966453655], [2.596638805653238], [3.569712917627458], [2.0940615562001534], [2.6113790572397875], [2.322606585306837], [3.057973855887929], [2.8261988336803765], [3.13943068828934], [3.032274026469249], [2.8088741072497836], [2.5382499939100955], [1.8362693698508796], [2.521610175134036], [2.6167830792508178], [2.2874784323295274], [2.373816694722892]]\n"
          ]
        }
      ],
      "source": [
        "w = gradient(X, y, 3)\n",
        "X_test = feature_test\n",
        "label_test = np.matmul(X_test, w).tolist()\n",
        "print(label_test)"
      ]
    },
    {
      "cell_type": "code",
      "execution_count": 35,
      "metadata": {
        "id": "yLxA0AhEi5ln"
      },
      "outputs": [
        {
          "name": "stderr",
          "output_type": "stream",
          "text": [
            "c:\\Users\\cau\\anaconda3\\envs\\AI\\lib\\site-packages\\ipykernel_launcher.py:4: UserWarning: Matplotlib is currently using module://matplotlib_inline.backend_inline, which is a non-GUI backend, so cannot show the figure.\n",
            "  after removing the cwd from sys.path.\n"
          ]
        },
        {
          "data": {
            "image/png": "[encoded data removed]",
            "text/plain": [
              "<Figure size 720x144 with 1 Axes>"
            ]
          },
          "metadata": {
            "needs_background": "light"
          },
          "output_type": "display_data"
        }
      ],
      "source": [
        "# Plot the samples\n",
        "f, ax = plt.subplots(1, figsize=(10, 2))\n",
        "ax.scatter(feature_test[:, 0], label_test)\n",
        "f.show()"
      ]
    }
  ],
  "metadata": {
    "colab": {
      "collapsed_sections": [],
      "provenance": []
    },
    "kernelspec": {
      "display_name": "Python 3.7.13 ('AI')",
      "language": "python",
      "name": "python3"
    },
    "language_info": {
      "codemirror_mode": {
        "name": "ipython",
        "version": 3
      },
      "file_extension": ".py",
      "mimetype": "text/x-python",
      "name": "python",
      "nbconvert_exporter": "python",
      "pygments_lexer": "ipython3",
      "version": "3.7.13"
    },
    "vscode": {
      "interpreter": {
        "hash": "8f1937dd5d34966cb1e4e735e790393a4b6f16e5af0b73963d134f59c8cae1b4"
      }
    }
  },
  "nbformat": 4,
  "nbformat_minor": 0
}
