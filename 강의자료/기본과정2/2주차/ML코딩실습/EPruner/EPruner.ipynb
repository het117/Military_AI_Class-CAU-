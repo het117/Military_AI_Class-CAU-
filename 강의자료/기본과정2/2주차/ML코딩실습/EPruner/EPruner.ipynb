{
  "nbformat": 4,
  "nbformat_minor": 0,
  "metadata": {
    "colab": {
      "provenance": [],
      "collapsed_sections": []
    },
    "kernelspec": {
      "name": "python3",
      "display_name": "Python 3"
    },
    "language_info": {
      "name": "python"
    }
  },
  "cells": [
    {
      "cell_type": "markdown",
      "source": [
        "2022.09.23 ML coding 실습 (Minji Kwak) </br>\n",
        "https://github.com/lmbxmu/EPruner"
      ],
      "metadata": {
        "id": "WYRy5TK7SkgY"
      }
    },
    {
      "cell_type": "markdown",
      "source": [
        "## Setting"
      ],
      "metadata": {
        "id": "9V5RARrCIrr2"
      }
    },
    {
      "cell_type": "markdown",
      "source": [
        "- original 파일 저장해놓고 싶으면 사본 생성"
      ],
      "metadata": {
        "id": "W7UvyRmV1GiN"
      }
    },
    {
      "cell_type": "code",
      "source": [
        "!nvcc -V"
      ],
      "metadata": {
        "id": "1MUk0FPKNyPF"
      },
      "execution_count": null,
      "outputs": []
    },
    {
      "cell_type": "code",
      "source": [
        "# 설치 후 런타임 재시작\n",
        "!wget https://developer.download.nvidia.com/compute/cuda/repos/ubuntu1804/x86_64/cuda-ubuntu1804.pin\n",
        "!sudo mv cuda-ubuntu1804.pin /etc/apt/preferences.d/cuda-repository-pin-600\n",
        "!sudo apt-key adv --fetch-keys https://developer.download.nvidia.com/compute/cuda/repos/ubuntu1804/x86_64/7fa2af80.pub\n",
        "!sudo add-apt-repository \"deb https://developer.download.nvidia.com/compute/cuda/repos/ubuntu1804/x86_64/ /\"\n",
        "!apt-get update # repository에 새로 추가된 패키지 등, 변경된 패키지 정보를 업데이트\n",
        "!apt-get -y install cuda-10.2 "
      ],
      "metadata": {
        "id": "NKLlvWdANXxq"
      },
      "execution_count": null,
      "outputs": []
    },
    {
      "cell_type": "code",
      "source": [
        "import torch\n",
        "print(torch.__version__)"
      ],
      "metadata": {
        "id": "kFul-NJQN0J8"
      },
      "execution_count": null,
      "outputs": []
    },
    {
      "cell_type": "code",
      "source": [
        "# 설치 후 런타임 재시작\n",
        "!pip install torch==1.12.0+cu102 torchvision==0.13.0+cu102 torchaudio==0.12.0 -f https://download.pytorch.org/whl/torch_stable.html"
      ],
      "metadata": {
        "id": "9y5zhEBSNZiz"
      },
      "execution_count": null,
      "outputs": []
    },
    {
      "cell_type": "code",
      "source": [
        "# For test\n",
        "!pip install thop"
      ],
      "metadata": {
        "id": "YIGQwB2PVmLZ"
      },
      "execution_count": null,
      "outputs": []
    },
    {
      "cell_type": "code",
      "source": [
        "!pip install scikit-learn==0.20.1"
      ],
      "metadata": {
        "id": "7RKFm8ewKNFm"
      },
      "execution_count": null,
      "outputs": []
    },
    {
      "cell_type": "code",
      "source": [
        "from google.colab import drive\n",
        "drive.mount('/content/drive')"
      ],
      "metadata": {
        "id": "8kbo23DSWu61"
      },
      "execution_count": null,
      "outputs": []
    },
    {
      "cell_type": "code",
      "source": [
        "!ls"
      ],
      "metadata": {
        "id": "wZNXoWfWZV3K"
      },
      "execution_count": null,
      "outputs": []
    },
    {
      "cell_type": "code",
      "source": [
        "cd \"/content/drive/MyDrive/ML_coding\""
      ],
      "metadata": {
        "id": "DFt7spPIWv_U"
      },
      "execution_count": null,
      "outputs": []
    },
    {
      "cell_type": "code",
      "source": [
        "!ls"
      ],
      "metadata": {
        "id": "C_Y_QlP_XXwG"
      },
      "execution_count": null,
      "outputs": []
    },
    {
      "cell_type": "code",
      "source": [
        "!git clone https://github.com/lmbxmu/EPruner.git"
      ],
      "metadata": {
        "id": "8YT7NCN1WxLo"
      },
      "execution_count": null,
      "outputs": []
    },
    {
      "cell_type": "code",
      "source": [
        "cd \"/content/drive/MyDrive/ML_coding/EPruner\""
      ],
      "metadata": {
        "id": "OjuUsnEU2IS6"
      },
      "execution_count": null,
      "outputs": []
    },
    {
      "cell_type": "markdown",
      "source": [
        "## Train & Test"
      ],
      "metadata": {
        "id": "la11u8iC8Ded"
      }
    },
    {
      "cell_type": "markdown",
      "source": [
        "- common.py 에서 check 확인 (args 선택)\n",
        "- Epruner/utils/test_flops_parans.py"
      ],
      "metadata": {
        "id": "B4BnNfLc8IVQ"
      }
    },
    {
      "cell_type": "markdown",
      "source": [
        "## Train"
      ],
      "metadata": {
        "id": "M-F_4hbwJKNB"
      }
    },
    {
      "cell_type": "markdown",
      "source": [
        "model 폴더 생성 +  파일 업로드\n",
        "- path: EPruner/data/model/resnet56.pt"
      ],
      "metadata": {
        "id": "nd7TE4dUQxqz"
      }
    },
    {
      "cell_type": "code",
      "source": [
        "!python epruner_cifar.py --dataset cifar10 --data_path data/CIFAR10/ --pretrain_model data/model/resnet56.pt --job_dir data/experiment/resnet56 --arch resnet --cfg resnet56 --init_method centroids --preference_beta 0.76 --lr 0.01 --lr_decay_step 50 100 --num_epochs 10 --train_batch_size 256 --weight_decay 5e-3 --gpus 0"
      ],
      "metadata": {
        "id": "51y7PMqiYVlp"
      },
      "execution_count": null,
      "outputs": []
    },
    {
      "cell_type": "markdown",
      "source": [
        "## Test"
      ],
      "metadata": {
        "id": "uOdvI_UfJC4y"
      }
    },
    {
      "cell_type": "markdown",
      "source": [
        "#### 1. model 폴더 생성 +  파일 업로드\n",
        "- path: EPruner/data/model/resnet56/model_best.pt\n",
        "\n",
        "#### 2. 코드 수정 파일 업로드\n",
        "- test_flops_params.py\n",
        "- common.py"
      ],
      "metadata": {
        "id": "ZylXf1-jUSNA"
      }
    },
    {
      "cell_type": "code",
      "source": [
        "pruned = torch.load('/content/drive/MyDrive/ML_coding/EPruner/data/model/pruned_model/resnet56/model_best.pt', map_location=torch.device('cpu'))\n",
        "pruned.keys()"
      ],
      "metadata": {
        "id": "kxBXr5MQ6utn"
      },
      "execution_count": null,
      "outputs": []
    },
    {
      "cell_type": "code",
      "source": [
        "pruned['cfg']"
      ],
      "metadata": {
        "id": "bV74WKoBH_fu"
      },
      "execution_count": null,
      "outputs": []
    },
    {
      "cell_type": "code",
      "source": [
        "!python test_flops_params.py --dataset cifar10 --data_path data/CIFAR10/ --arch resnet --cfg resnet56 --pruned_model data/model/pruned_model/resnet56/model_best.pt --eval_batch_size 512 --gpus 0"
      ],
      "metadata": {
        "id": "h4eo_-SUYkZB"
      },
      "execution_count": null,
      "outputs": []
    }
  ]
}