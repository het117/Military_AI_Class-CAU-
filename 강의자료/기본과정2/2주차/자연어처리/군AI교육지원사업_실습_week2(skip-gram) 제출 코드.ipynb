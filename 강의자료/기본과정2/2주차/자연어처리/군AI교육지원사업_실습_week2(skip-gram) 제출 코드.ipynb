{
  "cells": [
    {
      "cell_type": "code",
      "execution_count": 1,
      "metadata": {
        "id": "S_YsrQ6vBR1j"
      },
      "outputs": [],
      "source": [
        "## using pytorch\n",
        "import torch\n",
        "import torch.nn as nn\n",
        "import torch.nn.functional as F"
      ]
    },
    {
      "cell_type": "code",
      "execution_count": 2,
      "metadata": {
        "id": "m3RMeSS14-Zn"
      },
      "outputs": [],
      "source": [
        "## Skip-Gram 모델 정의\n",
        "import torch\n",
        "import torch.nn as nn\n",
        "import torch.nn.functional as F\n",
        "\n",
        "embedding_dim = 128\n",
        "embedding_max_norm = 1   # Embedding Layer의 weight가 너무 커지지 않도록 제한\n",
        "\n",
        "class SkipGram(nn.Module):\n",
        "    def __init__(self, embedding_dim, vocab_size: int, context_size=4):\n",
        "        super(SkipGram, self).__init__()\n",
        "        self.context_size = context_size\n",
        "        self.vocab_size = vocab_size\n",
        "\n",
        "        self.embeddings = nn.Embedding(vocab_size, embedding_dim)\n",
        "        self.layer = nn.Linear(embedding_dim, vocab_size*context_size)\n",
        "\n",
        "    def forward(self, input):\n",
        "        x = self.embeddings(input)                                      \n",
        "        x = self.layer(x)                                              \n",
        "        output = F.softmax(x, dim=-1)\n",
        "        output = output.view(self.context_size, self.vocab_size)        \n",
        "        return x"
      ]
    },
    {
      "cell_type": "code",
      "execution_count": 3,
      "metadata": {
        "id": "Q5AqXQPuDCBZ"
      },
      "outputs": [],
      "source": [
        "example_sentence = \"In the case of CBOW, one word is eliminated, and the word is predicted from surrounding words. Therefore, it takes multiple input vectors as inputs to the model and creates one output vector. In contrast, Skip-Gram learns by removing all words except one word and predicting the surrounding words in the context through one word.  So, it takes a vector as input and produces multiple output vectors. CBOW and Skip-Gram are different.\" \n",
        "#-----------------------------------------------------------------------\n",
        "## Data Preprocessing\n",
        "\n",
        "# Tokenization (just split)\n",
        "tokenized_sentence = example_sentence.split()\n",
        "\n",
        "# Make Vocabulary\n",
        "vocab = set(tokenized_sentence)    # 중복제거\n",
        "#-----------------------------------------------------------------------\n",
        "## Make Dictionary _ word2index{word: index}, index2word{index: word}\n",
        "\n",
        "word2index = {word:index for index, word in enumerate(vocab)}\n",
        "index2word = {index:word for index, word in enumerate(vocab)}\n",
        "#-----------------------------------------------------------------------"
      ]
    },
    {
      "cell_type": "code",
      "execution_count": 4,
      "metadata": {
        "colab": {
          "base_uri": "https://localhost:8080/"
        },
        "id": "8GO_i3S180bR",
        "outputId": "8e88515b-570a-4850-9105-bbd65bd5619b"
      },
      "outputs": [
        {
          "data": {
            "text/plain": [
              "{'CBOW',\n",
              " 'CBOW,',\n",
              " 'In',\n",
              " 'Skip-Gram',\n",
              " 'So,',\n",
              " 'Therefore,',\n",
              " 'a',\n",
              " 'all',\n",
              " 'and',\n",
              " 'are',\n",
              " 'as',\n",
              " 'by',\n",
              " 'case',\n",
              " 'context',\n",
              " 'contrast,',\n",
              " 'creates',\n",
              " 'different.',\n",
              " 'eliminated,',\n",
              " 'except',\n",
              " 'from',\n",
              " 'in',\n",
              " 'input',\n",
              " 'inputs',\n",
              " 'is',\n",
              " 'it',\n",
              " 'learns',\n",
              " 'model',\n",
              " 'multiple',\n",
              " 'of',\n",
              " 'one',\n",
              " 'output',\n",
              " 'predicted',\n",
              " 'predicting',\n",
              " 'produces',\n",
              " 'removing',\n",
              " 'surrounding',\n",
              " 'takes',\n",
              " 'the',\n",
              " 'through',\n",
              " 'to',\n",
              " 'vector',\n",
              " 'vector.',\n",
              " 'vectors',\n",
              " 'vectors.',\n",
              " 'word',\n",
              " 'word.',\n",
              " 'words',\n",
              " 'words.'}"
            ]
          },
          "execution_count": 4,
          "metadata": {},
          "output_type": "execute_result"
        }
      ],
      "source": [
        "vocab"
      ]
    },
    {
      "cell_type": "code",
      "execution_count": 5,
      "metadata": {
        "colab": {
          "base_uri": "https://localhost:8080/"
        },
        "id": "W6j2sID7-Fa8",
        "outputId": "38934ae0-bbef-488a-fec7-95bfa1c23a75"
      },
      "outputs": [
        {
          "data": {
            "text/plain": [
              "[('case', ['In', 'the', 'of', 'CBOW,']),\n",
              " ('of', ['the', 'case', 'CBOW,', 'one']),\n",
              " ('CBOW,', ['case', 'of', 'one', 'word']),\n",
              " ('one', ['of', 'CBOW,', 'word', 'is']),\n",
              " ('word', ['CBOW,', 'one', 'is', 'eliminated,']),\n",
              " ('is', ['one', 'word', 'eliminated,', 'and']),\n",
              " ('eliminated,', ['word', 'is', 'and', 'the']),\n",
              " ('and', ['is', 'eliminated,', 'the', 'word']),\n",
              " ('the', ['eliminated,', 'and', 'word', 'is']),\n",
              " ('word', ['and', 'the', 'is', 'predicted'])]"
            ]
          },
          "execution_count": 5,
          "metadata": {},
          "output_type": "execute_result"
        }
      ],
      "source": [
        "def make_data(sentence):\n",
        "  data = []\n",
        "  for i in range(2, len(tokenized_sentence)-2):\n",
        "    input = tokenized_sentence[i]\n",
        "    target = [tokenized_sentence[i-2],tokenized_sentence[i-1],\n",
        "              tokenized_sentence[i+1],tokenized_sentence[i+2]]\n",
        "    data.append((input, target))\n",
        "  return data    # input, target pair\n",
        "\n",
        "data = make_data(example_sentence.split())\n",
        "data[:10]"
      ]
    },
    {
      "cell_type": "code",
      "execution_count": 6,
      "metadata": {
        "colab": {
          "base_uri": "https://localhost:8080/"
        },
        "id": "d0SSbIYxDmgU",
        "outputId": "6aa3753d-a67a-4545-8590-554b086e7638"
      },
      "outputs": [
        {
          "data": {
            "text/plain": [
              "tensor([22])"
            ]
          },
          "execution_count": 6,
          "metadata": {},
          "output_type": "execute_result"
        }
      ],
      "source": [
        "# Convert Context to Index Vector\n",
        "\n",
        "def make_index_vector(context, word_to_ix):\n",
        "  idxs = [word_to_ix[w] for w in context]\n",
        "  return torch.tensor(idxs)\n",
        "\n",
        "make_index_vector(['CBOW'], word2index)"
      ]
    },
    {
      "cell_type": "code",
      "execution_count": 7,
      "metadata": {
        "colab": {
          "base_uri": "https://localhost:8080/"
        },
        "id": "WuZRMCl1-FYX",
        "outputId": "264a3c52-304b-4e5b-f455-8da8e2f86471"
      },
      "outputs": [
        {
          "ename": "ValueError",
          "evalue": "Expected input batch_size (1) to match target batch_size (4).",
          "output_type": "error",
          "traceback": [
            "\u001b[1;31m---------------------------------------------------------------------------\u001b[0m",
            "\u001b[1;31mValueError\u001b[0m                                Traceback (most recent call last)",
            "\u001b[1;32mc:\\Users\\cau\\Desktop\\군AI교육지원사업_실습_week2.ipynb 셀 7\u001b[0m in \u001b[0;36m<cell line: 6>\u001b[1;34m()\u001b[0m\n\u001b[0;32m      <a href='vscode-notebook-cell:/c%3A/Users/cau/Desktop/%EA%B5%B0AI%EA%B5%90%EC%9C%A1%EC%A7%80%EC%9B%90%EC%82%AC%EC%97%85_%EC%8B%A4%EC%8A%B5_week2.ipynb#Y100sZmlsZQ%3D%3D?line=8'>9</a>\u001b[0m   input_ \u001b[39m=\u001b[39m make_index_vector([\u001b[39minput\u001b[39m], word2index) \n\u001b[0;32m     <a href='vscode-notebook-cell:/c%3A/Users/cau/Desktop/%EA%B5%B0AI%EA%B5%90%EC%9C%A1%EC%A7%80%EC%9B%90%EC%82%AC%EC%97%85_%EC%8B%A4%EC%8A%B5_week2.ipynb#Y100sZmlsZQ%3D%3D?line=9'>10</a>\u001b[0m   output \u001b[39m=\u001b[39m model(input_)\n\u001b[1;32m---> <a href='vscode-notebook-cell:/c%3A/Users/cau/Desktop/%EA%B5%B0AI%EA%B5%90%EC%9C%A1%EC%A7%80%EC%9B%90%EC%82%AC%EC%97%85_%EC%8B%A4%EC%8A%B5_week2.ipynb#Y100sZmlsZQ%3D%3D?line=10'>11</a>\u001b[0m   total_loss \u001b[39m+\u001b[39m\u001b[39m=\u001b[39m loss_function(output, make_index_vector(target, word2index))\n\u001b[0;32m     <a href='vscode-notebook-cell:/c%3A/Users/cau/Desktop/%EA%B5%B0AI%EA%B5%90%EC%9C%A1%EC%A7%80%EC%9B%90%EC%82%AC%EC%97%85_%EC%8B%A4%EC%8A%B5_week2.ipynb#Y100sZmlsZQ%3D%3D?line=11'>12</a>\u001b[0m \u001b[39mif\u001b[39;00m epoch \u001b[39m%\u001b[39m \u001b[39m50\u001b[39m \u001b[39m==\u001b[39m \u001b[39m0\u001b[39m:\n\u001b[0;32m     <a href='vscode-notebook-cell:/c%3A/Users/cau/Desktop/%EA%B5%B0AI%EA%B5%90%EC%9C%A1%EC%A7%80%EC%9B%90%EC%82%AC%EC%97%85_%EC%8B%A4%EC%8A%B5_week2.ipynb#Y100sZmlsZQ%3D%3D?line=12'>13</a>\u001b[0m   \u001b[39mprint\u001b[39m(\u001b[39m'\u001b[39m\u001b[39mepoch = \u001b[39m\u001b[39m'\u001b[39m,epoch, \u001b[39m'\u001b[39m\u001b[39m, loss = \u001b[39m\u001b[39m'\u001b[39m,total_loss)\n",
            "File \u001b[1;32mc:\\Users\\cau\\anaconda3\\envs\\Project\\lib\\site-packages\\torch\\nn\\modules\\module.py:1130\u001b[0m, in \u001b[0;36mModule._call_impl\u001b[1;34m(self, *input, **kwargs)\u001b[0m\n\u001b[0;32m   1126\u001b[0m \u001b[39m# If we don't have any hooks, we want to skip the rest of the logic in\u001b[39;00m\n\u001b[0;32m   1127\u001b[0m \u001b[39m# this function, and just call forward.\u001b[39;00m\n\u001b[0;32m   1128\u001b[0m \u001b[39mif\u001b[39;00m \u001b[39mnot\u001b[39;00m (\u001b[39mself\u001b[39m\u001b[39m.\u001b[39m_backward_hooks \u001b[39mor\u001b[39;00m \u001b[39mself\u001b[39m\u001b[39m.\u001b[39m_forward_hooks \u001b[39mor\u001b[39;00m \u001b[39mself\u001b[39m\u001b[39m.\u001b[39m_forward_pre_hooks \u001b[39mor\u001b[39;00m _global_backward_hooks\n\u001b[0;32m   1129\u001b[0m         \u001b[39mor\u001b[39;00m _global_forward_hooks \u001b[39mor\u001b[39;00m _global_forward_pre_hooks):\n\u001b[1;32m-> 1130\u001b[0m     \u001b[39mreturn\u001b[39;00m forward_call(\u001b[39m*\u001b[39m\u001b[39minput\u001b[39m, \u001b[39m*\u001b[39m\u001b[39m*\u001b[39mkwargs)\n\u001b[0;32m   1131\u001b[0m \u001b[39m# Do not call functions when jit is used\u001b[39;00m\n\u001b[0;32m   1132\u001b[0m full_backward_hooks, non_full_backward_hooks \u001b[39m=\u001b[39m [], []\n",
            "File \u001b[1;32mc:\\Users\\cau\\anaconda3\\envs\\Project\\lib\\site-packages\\torch\\nn\\modules\\loss.py:1164\u001b[0m, in \u001b[0;36mCrossEntropyLoss.forward\u001b[1;34m(self, input, target)\u001b[0m\n\u001b[0;32m   1163\u001b[0m \u001b[39mdef\u001b[39;00m \u001b[39mforward\u001b[39m(\u001b[39mself\u001b[39m, \u001b[39minput\u001b[39m: Tensor, target: Tensor) \u001b[39m-\u001b[39m\u001b[39m>\u001b[39m Tensor:\n\u001b[1;32m-> 1164\u001b[0m     \u001b[39mreturn\u001b[39;00m F\u001b[39m.\u001b[39;49mcross_entropy(\u001b[39minput\u001b[39;49m, target, weight\u001b[39m=\u001b[39;49m\u001b[39mself\u001b[39;49m\u001b[39m.\u001b[39;49mweight,\n\u001b[0;32m   1165\u001b[0m                            ignore_index\u001b[39m=\u001b[39;49m\u001b[39mself\u001b[39;49m\u001b[39m.\u001b[39;49mignore_index, reduction\u001b[39m=\u001b[39;49m\u001b[39mself\u001b[39;49m\u001b[39m.\u001b[39;49mreduction,\n\u001b[0;32m   1166\u001b[0m                            label_smoothing\u001b[39m=\u001b[39;49m\u001b[39mself\u001b[39;49m\u001b[39m.\u001b[39;49mlabel_smoothing)\n",
            "File \u001b[1;32mc:\\Users\\cau\\anaconda3\\envs\\Project\\lib\\site-packages\\torch\\nn\\functional.py:3014\u001b[0m, in \u001b[0;36mcross_entropy\u001b[1;34m(input, target, weight, size_average, ignore_index, reduce, reduction, label_smoothing)\u001b[0m\n\u001b[0;32m   3012\u001b[0m \u001b[39mif\u001b[39;00m size_average \u001b[39mis\u001b[39;00m \u001b[39mnot\u001b[39;00m \u001b[39mNone\u001b[39;00m \u001b[39mor\u001b[39;00m reduce \u001b[39mis\u001b[39;00m \u001b[39mnot\u001b[39;00m \u001b[39mNone\u001b[39;00m:\n\u001b[0;32m   3013\u001b[0m     reduction \u001b[39m=\u001b[39m _Reduction\u001b[39m.\u001b[39mlegacy_get_string(size_average, reduce)\n\u001b[1;32m-> 3014\u001b[0m \u001b[39mreturn\u001b[39;00m torch\u001b[39m.\u001b[39;49m_C\u001b[39m.\u001b[39;49m_nn\u001b[39m.\u001b[39;49mcross_entropy_loss(\u001b[39minput\u001b[39;49m, target, weight, _Reduction\u001b[39m.\u001b[39;49mget_enum(reduction), ignore_index, label_smoothing)\n",
            "\u001b[1;31mValueError\u001b[0m: Expected input batch_size (1) to match target batch_size (4)."
          ]
        }
      ],
      "source": [
        "model = SkipGram(embedding_dim, len(vocab))\n",
        "loss_function = nn.CrossEntropyLoss()\n",
        "optimizer = torch.optim.SGD(model.parameters(), lr=0.001)\n",
        "\n",
        "EPOCHS=300\n",
        "for epoch in range(EPOCHS):\n",
        "    total_loss = 0\n",
        "    for input, target in data:\n",
        "      input_ = make_index_vector([input], word2index) \n",
        "      output = model(input_)\n",
        "      total_loss += loss_function(output, make_index_vector(target, word2index))\n",
        "    if epoch % 50 == 0:\n",
        "      print('epoch = ',epoch, ', loss = ',total_loss)\n",
        "    optimizer.zero_grad()\n",
        "    total_loss.backward()\n",
        "    optimizer.step()"
      ]
    },
    {
      "cell_type": "code",
      "execution_count": null,
      "metadata": {
        "colab": {
          "base_uri": "https://localhost:8080/"
        },
        "id": "6aqds7u293nz",
        "outputId": "1517e807-e6dd-4720-f070-703b2b306d84"
      },
      "outputs": [],
      "source": [
        "test_data = 'Skip-Gram'\n",
        "\n",
        "test_vector = make_index_vector([test_data], word2index)\n",
        "result = model(test_vector)\n",
        "print('Prediction : ', [index2word[torch.argmax(r).item()] for r in result])\n"
      ]
    }
  ],
  "metadata": {
    "colab": {
      "collapsed_sections": [],
      "provenance": []
    },
    "kernelspec": {
      "display_name": "Python 3.9.12 ('Project')",
      "language": "python",
      "name": "python3"
    },
    "language_info": {
      "codemirror_mode": {
        "name": "ipython",
        "version": 3
      },
      "file_extension": ".py",
      "mimetype": "text/x-python",
      "name": "python",
      "nbconvert_exporter": "python",
      "pygments_lexer": "ipython3",
      "version": "3.9.12"
    },
    "vscode": {
      "interpreter": {
        "hash": "b1bc945498f5240759fe663bf7e706a169be6ade5f25b8b3e8baba23720c06c5"
      }
    }
  },
  "nbformat": 4,
  "nbformat_minor": 0
}
